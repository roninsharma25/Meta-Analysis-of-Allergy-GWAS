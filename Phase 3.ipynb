{
 "cells": [
  {
   "cell_type": "markdown",
   "metadata": {},
   "source": [
    "__Analysis 1:__ I will create a logistic regression model that predicts the binarized SNP association level (significant or not significant) based on the discrete base pair location."
   ]
  },
  {
   "cell_type": "markdown",
   "metadata": {},
   "source": [
    "__Analysis 2:__ I will create a linear regression model that predicts the discrete SNP association value (not significant, suggested significance, genome-wide significance) based on the continous odds ratio, discrete chromosomal location, discrete base pair location, and the discrete effect allele."
   ]
  },
  {
   "cell_type": "markdown",
   "metadata": {},
   "source": [
    "I chose to incorporate these features because they were correlated and previous literature suggests that they might impact the SNP association values for allergic disease since they have impacted them for other traits.\n",
    "\n",
    "I will generate these models for the top three phenotypes in the dataset. If these models have a high accuracy, then it will be beneficial since there have been a few models that have incorporated allergic disease phenotype data in the past. This model can then be used as a building block for modeling data from related allergy phenotypes. If the results are not significant, then I will identify potential reasons why, such as if certain features should not have been included. I will further analyze the features in unsuccessful models in an individual capacity. An unsuccessful result would still be interesting because it would highlight the differences in allergy models with models for other diseases since some of these features have successfuly be used to model other diseases."
   ]
  },
  {
   "cell_type": "markdown",
   "metadata": {},
   "source": [
    "__Question for Reviewers:__ Do you think it would be benefical to test more sophisticated models (Decision Tree, SVM, kNN)?"
   ]
  }
 ],
 "metadata": {
  "kernelspec": {
   "display_name": "Python 3",
   "language": "python",
   "name": "python3"
  },
  "language_info": {
   "codemirror_mode": {
    "name": "ipython",
    "version": 3
   },
   "file_extension": ".py",
   "mimetype": "text/x-python",
   "name": "python",
   "nbconvert_exporter": "python",
   "pygments_lexer": "ipython3",
   "version": "3.8.5"
  }
 },
 "nbformat": 4,
 "nbformat_minor": 4
}
