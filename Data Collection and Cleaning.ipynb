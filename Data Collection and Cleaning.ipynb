{
 "cells": [
  {
   "cell_type": "code",
   "execution_count": 1,
   "metadata": {},
   "outputs": [],
   "source": [
    "import pandas as pd\n",
    "import numpy as np\n",
    "import requests\n",
    "import bs4\n",
    "import time\n",
    "import matplotlib.pyplot as plt\n",
    "import math"
   ]
  },
  {
   "cell_type": "markdown",
   "metadata": {},
   "source": [
    "### Data Collection ###"
   ]
  },
  {
   "cell_type": "markdown",
   "metadata": {},
   "source": [
    "__Scrape using the GWAS Catalog's API__"
   ]
  },
  {
   "cell_type": "code",
   "execution_count": 2,
   "metadata": {},
   "outputs": [],
   "source": [
    "gwas_catalog = pd.read_json(\"https://www.ebi.ac.uk/gwas/summary-statistics/api/traits/EFO_0003785/associations\")\n",
    "\n",
    "# Subset the list of associations\n",
    "associations = gwas_catalog[\"_embedded\"][\"associations\"]\n",
    "\n",
    "scraped_df = pd.DataFrame(columns = [\"BETA\", \"CHR\", \"BP\", \"OR\", \"RAF\", \"PVALUE\", \"VARIANT\", \"EFFECT_ALLELE\", \n",
    "                                     \"TRAIT\", \"MAPPED_GENE_LIST\", \"NUM_MAPPED_GENES\", \"TRAITS_ASSOCIATED_WITH_MAPPED_GENES\"])\n",
    "\n",
    "for i in range(len(associations)):\n",
    "    obj = associations[str(i)] # association object\n",
    "    \n",
    "    # Obtain all the info I need\n",
    "    beta = obj[\"beta\"]\n",
    "    chrom = obj[\"chromosome\"]\n",
    "    bp = obj[\"base_pair_location\"]\n",
    "    odd_rat = obj[\"odds_ratio\"]\n",
    "    eff_allele_freq = obj[\"effect_allele_frequency\"]\n",
    "    p_val = obj[\"p_value\"]\n",
    "    variant = obj[\"variant_id\"]\n",
    "    eff_allele = obj[\"effect_allele\"]\n",
    "    trait = \"Atopy\"\n",
    "    \n",
    "    # Create new row and add it to the dataframe\n",
    "    scraped_df.loc[len(scraped_df)] = [beta, chrom, bp, odd_rat, eff_allele_freq, p_val, variant, eff_allele, trait, [], 0, \"-\"]"
   ]
  },
  {
   "cell_type": "markdown",
   "metadata": {},
   "source": [
    "__Read all the data from the csv files and add it all to one dataframe__"
   ]
  },
  {
   "cell_type": "code",
   "execution_count": 3,
   "metadata": {},
   "outputs": [],
   "source": [
    "trait_files = [\"all-rhin-associations-2020-09-27.csv\", \"all-allergy-associations-2020-09-28.csv\"]\n",
    "additional_trait_codes = [\"0000274\", \"0002686\", \"0003956\", \"0005298\", \"0007016\", \n",
    "                          \"0007017\", \"0007018\", \"0007019\", \"1000651\", \"1001243\"]\n",
    "\n",
    "for val in additional_trait_codes:\n",
    "    new_file = \"efotraits_EFO_\" + val + \"-associations-2020-09-30.csv\" # assemble file name\n",
    "    trait_files.append(new_file)\n",
    "\n",
    "# Create a dataframe will the data from all the csv files\n",
    "all_traits = pd.read_csv(trait_files[0])\n",
    "for file in trait_files[1:]:\n",
    "    new_trait = pd.read_csv(file)\n",
    "    all_traits = all_traits.append(new_trait, ignore_index = True)"
   ]
  },
  {
   "cell_type": "markdown",
   "metadata": {},
   "source": [
    "First, I split the variant and risk allele column into two columns so that I can process both separately. When loading the original column as a dataframe the HTML b tag was read as a string so I used the string version of the tag as a delimeter."
   ]
  },
  {
   "cell_type": "code",
   "execution_count": 4,
   "metadata": {},
   "outputs": [],
   "source": [
    "all_traits[\"VARIANT\"] = [i.split(\"-<b>\")[0] for i in all_traits[\"Variant and risk allele\"]]\n",
    "all_traits[\"EFFECT_ALLELE\"] = [i.split(\"-<b>\")[1][0] for i in all_traits[\"Variant and risk allele\"]]"
   ]
  },
  {
   "cell_type": "markdown",
   "metadata": {},
   "source": [
    "Then, I split the location column into two columns (chromosome and base pair location). This time I used a colon as the delimeter."
   ]
  },
  {
   "cell_type": "code",
   "execution_count": 5,
   "metadata": {},
   "outputs": [],
   "source": [
    "all_traits[\"CHR\"] = [i.split(\":\")[0] for i in all_traits[\"Location\"]]\n",
    "all_traits[\"BP\"] = [i.split(\":\")[1] if len(i.split(\":\")) > 1 else i.split(\":\")[0] for i in all_traits[\"Location\"]]"
   ]
  },
  {
   "cell_type": "markdown",
   "metadata": {},
   "source": [
    "Next, I converted the mapped gene column to a list and store the number of mapped genes"
   ]
  },
  {
   "cell_type": "code",
   "execution_count": 6,
   "metadata": {},
   "outputs": [],
   "source": [
    "all_traits[\"MAPPED_GENE_LIST\"] = [ i.split(\", \") for i in all_traits[\"Mapped gene\"] ]\n",
    "all_traits[\"NUM_MAPPED_GENES\"] = [ len(i.split(\", \")) for i in all_traits[\"Mapped gene\"] ]"
   ]
  },
  {
   "cell_type": "markdown",
   "metadata": {},
   "source": [
    "Then, I added another column that contains traits associated with the same mapped genes."
   ]
  },
  {
   "cell_type": "code",
   "execution_count": 7,
   "metadata": {},
   "outputs": [],
   "source": [
    "food_allergy = pd.read_csv(\"food allergy-DOID_3044-genes-2020-09-27.tsv\", sep = \"\\t\")\n",
    "\n",
    "gene_disease_dict = {}\n",
    "for val in food_allergy[[\"Gene Symbol\", \"Disease Name\"]].itertuples():\n",
    "    gene_disease_dict[val[1]] = val[2]\n",
    "\n",
    "prev_associated_traits = []\n",
    "for gene_list in all_traits[\"MAPPED_GENE_LIST\"]:\n",
    "    prev_trait_list = [] # use a list in case there are multiple previous associations\n",
    "    for gene in gene_disease_dict:\n",
    "        if gene in gene_list:\n",
    "            prev_trait_list.append(gene_disease_dict[gene]) # add the previously associated disease\n",
    "            \n",
    "    # Represent no previous associations using a hypen instead of an empty list\n",
    "    if prev_trait_list == []:\n",
    "        prev_trait_list = \"-\"\n",
    "    \n",
    "    prev_associated_traits.append(prev_trait_list)\n",
    "\n",
    "all_traits[\"TRAITS_ASSOCIATED_WITH_MAPPED_GENES\"] = prev_associated_traits"
   ]
  },
  {
   "cell_type": "markdown",
   "metadata": {},
   "source": [
    "Then, I merged the two datasets."
   ]
  },
  {
   "cell_type": "code",
   "execution_count": 8,
   "metadata": {},
   "outputs": [],
   "source": [
    "# Add matching columns before merging them\n",
    "all_traits[\"BETA\"] = all_traits[\"Beta\"]\n",
    "all_traits[\"PVALUE\"] = all_traits[\"P-value\"]\n",
    "all_traits[\"TRAIT\"] = all_traits[\"Trait(s)\"]\n",
    "all_traits_subset = all_traits[[\"BETA\", \"CHR\", \"BP\", \"OR\", \"RAF\", \"PVALUE\", \"VARIANT\", \"EFFECT_ALLELE\", \"TRAIT\", \n",
    "                                \"MAPPED_GENE_LIST\", \"NUM_MAPPED_GENES\", \"TRAITS_ASSOCIATED_WITH_MAPPED_GENES\"]]\n",
    "\n",
    "all_traits_merged = all_traits_subset.append(scraped_df, ignore_index = True)"
   ]
  },
  {
   "cell_type": "markdown",
   "metadata": {},
   "source": [
    "### Data Cleaning ###"
   ]
  },
  {
   "cell_type": "code",
   "execution_count": 9,
   "metadata": {},
   "outputs": [],
   "source": [
    "# Remove the NA BETA rows (only 20) in order to convert the strings into ints\n",
    "all_traits_merged = all_traits_merged[all_traits_merged[\"BETA\"].notna()]\n",
    "\n",
    "new_beta_list = []\n",
    "for val in all_traits_merged[\"BETA\"]:\n",
    "    sub_list = val.split(\" \")\n",
    "    if (len(sub_list) == 1):\n",
    "        new_beta_list.append(-10) # Use -10 to represent NAN -- will not process these values\n",
    "    elif (sub_list[2] == \"increase\"):\n",
    "        new_beta_list.append(float(sub_list[0])) # leave increases as positive values\n",
    "    else:\n",
    "        new_beta_list.append(-1 * float(sub_list[0])) # add a negative to represent a decrease\n",
    "all_traits_merged[\"BETA\"] = new_beta_list\n",
    "\n",
    "new_raf_list = []\n",
    "for val in all_traits_merged[\"RAF\"]:\n",
    "    if type(val) == float or type(val) == int:\n",
    "        new_raf_list.append(val)\n",
    "    elif val.isnumeric():\n",
    "        new_raf_list.append(float(val))\n",
    "    else:\n",
    "        new_raf_list.append(-10)\n",
    "all_traits_merged[\"RAF\"] = new_raf_list\n",
    "\n",
    "new_pvalue_list = []\n",
    "for val in all_traits_merged[\"PVALUE\"]:\n",
    "    temp = val.split(\" \")\n",
    "    first = float(temp[0])\n",
    "    exponent = float(temp[2].split(\"-\")[1])\n",
    "    out = first * 10 ** (-1 * exponent)\n",
    "    new_pvalue_list.append(out)\n",
    "all_traits_merged[\"PVALUE\"] = new_pvalue_list"
   ]
  },
  {
   "cell_type": "code",
   "execution_count": 10,
   "metadata": {},
   "outputs": [],
   "source": [
    "# Convert other values to numbers, if NA set to -10\n",
    "all_traits_merged[\"CHR\"] = [ float(i) if i.isnumeric() else -10 for i in all_traits_merged[\"CHR\"] ]\n",
    "all_traits_merged[\"BP\"] = [ float(i) if i.isnumeric() else -10 for i in all_traits_merged[\"BP\"] ]\n",
    "all_traits_merged[\"OR\"] = [ float(i) if i != \"'-\" else -10 for i in all_traits_merged[\"OR\"] ]"
   ]
  },
  {
   "cell_type": "code",
   "execution_count": 11,
   "metadata": {},
   "outputs": [
    {
     "data": {
      "text/html": [
       "<div>\n",
       "<style scoped>\n",
       "    .dataframe tbody tr th:only-of-type {\n",
       "        vertical-align: middle;\n",
       "    }\n",
       "\n",
       "    .dataframe tbody tr th {\n",
       "        vertical-align: top;\n",
       "    }\n",
       "\n",
       "    .dataframe thead th {\n",
       "        text-align: right;\n",
       "    }\n",
       "</style>\n",
       "<table border=\"1\" class=\"dataframe\">\n",
       "  <thead>\n",
       "    <tr style=\"text-align: right;\">\n",
       "      <th></th>\n",
       "      <th>BETA</th>\n",
       "      <th>CHR</th>\n",
       "      <th>BP</th>\n",
       "      <th>OR</th>\n",
       "      <th>RAF</th>\n",
       "      <th>PVALUE</th>\n",
       "      <th>VARIANT</th>\n",
       "      <th>EFFECT_ALLELE</th>\n",
       "      <th>TRAIT</th>\n",
       "      <th>MAPPED_GENE_LIST</th>\n",
       "      <th>NUM_MAPPED_GENES</th>\n",
       "      <th>TRAITS_ASSOCIATED_WITH_MAPPED_GENES</th>\n",
       "    </tr>\n",
       "  </thead>\n",
       "  <tbody>\n",
       "    <tr>\n",
       "      <th>0</th>\n",
       "      <td>-10.0</td>\n",
       "      <td>11.0</td>\n",
       "      <td>76588150.0</td>\n",
       "      <td>1.22</td>\n",
       "      <td>-10.0</td>\n",
       "      <td>1.000000e-08</td>\n",
       "      <td>rs2155219</td>\n",
       "      <td>T</td>\n",
       "      <td>seasonal allergic rhinitis</td>\n",
       "      <td>[EMSY, AP001189.2]</td>\n",
       "      <td>2</td>\n",
       "      <td>-</td>\n",
       "    </tr>\n",
       "    <tr>\n",
       "      <th>1</th>\n",
       "      <td>-10.0</td>\n",
       "      <td>5.0</td>\n",
       "      <td>110810746.0</td>\n",
       "      <td>1.39</td>\n",
       "      <td>-10.0</td>\n",
       "      <td>1.000000e-08</td>\n",
       "      <td>rs17513503</td>\n",
       "      <td>G</td>\n",
       "      <td>seasonal allergic rhinitis</td>\n",
       "      <td>[SLC25A46, AC008782.1]</td>\n",
       "      <td>2</td>\n",
       "      <td>-</td>\n",
       "    </tr>\n",
       "    <tr>\n",
       "      <th>2</th>\n",
       "      <td>-10.0</td>\n",
       "      <td>4.0</td>\n",
       "      <td>122451978.0</td>\n",
       "      <td>1.19</td>\n",
       "      <td>-10.0</td>\n",
       "      <td>1.000000e-06</td>\n",
       "      <td>rs2069772</td>\n",
       "      <td>C</td>\n",
       "      <td>seasonal allergic rhinitis</td>\n",
       "      <td>[IL2]</td>\n",
       "      <td>1</td>\n",
       "      <td>-</td>\n",
       "    </tr>\n",
       "    <tr>\n",
       "      <th>3</th>\n",
       "      <td>-10.0</td>\n",
       "      <td>16.0</td>\n",
       "      <td>9305867.0</td>\n",
       "      <td>1.18</td>\n",
       "      <td>-10.0</td>\n",
       "      <td>2.000000e-06</td>\n",
       "      <td>rs631208</td>\n",
       "      <td>A</td>\n",
       "      <td>seasonal allergic rhinitis</td>\n",
       "      <td>[LINC02177, RPL21P119]</td>\n",
       "      <td>2</td>\n",
       "      <td>-</td>\n",
       "    </tr>\n",
       "    <tr>\n",
       "      <th>4</th>\n",
       "      <td>-10.0</td>\n",
       "      <td>1.0</td>\n",
       "      <td>51393570.0</td>\n",
       "      <td>1.35</td>\n",
       "      <td>-10.0</td>\n",
       "      <td>2.000000e-06</td>\n",
       "      <td>rs6673480</td>\n",
       "      <td>T</td>\n",
       "      <td>seasonal allergic rhinitis</td>\n",
       "      <td>[EPS15]</td>\n",
       "      <td>1</td>\n",
       "      <td>-</td>\n",
       "    </tr>\n",
       "  </tbody>\n",
       "</table>\n",
       "</div>"
      ],
      "text/plain": [
       "   BETA   CHR           BP    OR   RAF        PVALUE     VARIANT  \\\n",
       "0 -10.0  11.0   76588150.0  1.22 -10.0  1.000000e-08   rs2155219   \n",
       "1 -10.0   5.0  110810746.0  1.39 -10.0  1.000000e-08  rs17513503   \n",
       "2 -10.0   4.0  122451978.0  1.19 -10.0  1.000000e-06   rs2069772   \n",
       "3 -10.0  16.0    9305867.0  1.18 -10.0  2.000000e-06    rs631208   \n",
       "4 -10.0   1.0   51393570.0  1.35 -10.0  2.000000e-06   rs6673480   \n",
       "\n",
       "  EFFECT_ALLELE                       TRAIT        MAPPED_GENE_LIST  \\\n",
       "0             T  seasonal allergic rhinitis      [EMSY, AP001189.2]   \n",
       "1             G  seasonal allergic rhinitis  [SLC25A46, AC008782.1]   \n",
       "2             C  seasonal allergic rhinitis                   [IL2]   \n",
       "3             A  seasonal allergic rhinitis  [LINC02177, RPL21P119]   \n",
       "4             T  seasonal allergic rhinitis                 [EPS15]   \n",
       "\n",
       "  NUM_MAPPED_GENES TRAITS_ASSOCIATED_WITH_MAPPED_GENES  \n",
       "0                2                                   -  \n",
       "1                2                                   -  \n",
       "2                1                                   -  \n",
       "3                2                                   -  \n",
       "4                1                                   -  "
      ]
     },
     "execution_count": 11,
     "metadata": {},
     "output_type": "execute_result"
    }
   ],
   "source": [
    "all_traits_merged = all_traits_merged[ all_traits_merged[\"EFFECT_ALLELE\"] != \"D\" ]\n",
    "all_traits_merged.head()"
   ]
  },
  {
   "cell_type": "markdown",
   "metadata": {},
   "source": [
    "Finally, I added a new column with discrete base pair locations based on total number of base pairs in that chromosome. I also added a new column with discrete values for the effect allele. [Here](https://www.ncbi.nlm.nih.gov/books/NBK22266/) is the source for my total base pair dictionary."
   ]
  },
  {
   "cell_type": "code",
   "execution_count": 35,
   "metadata": {},
   "outputs": [],
   "source": [
    "# Map chromosome to total number of base pairs\n",
    "total_base_pair = {1: 240e6, 2: 240e6, 3: 200e6, 4: 190e6, 5: 180e6, 6: 170e6, 7: 150e6, 8: 140e6, 9: 130e6, \n",
    "                   10: 130e6, 11: 130e6, 12: 130e6, 13: 110e6, 14: 100e6, 15: 100e6, 16: 90e6, 17: 80e6,\n",
    "                   18: 70e6, 19: 60e6, 20: 60e6, 21: 40e6, 22: 40e6}\n",
    "\n",
    "new_bp_list = []\n",
    "for num in range(all_traits_merged.shape[0]):\n",
    "    row = all_traits_merged.iloc[num]\n",
    "    chrom = row[\"CHR\"]\n",
    "    bp = row[\"BP\"]\n",
    "    \n",
    "    if (chrom == -10 or bp == -10):\n",
    "        new_bp_list.append(-10)\n",
    "    elif (bp < (0.25 * total_base_pair[chrom])):\n",
    "        new_bp_list.append(1)\n",
    "    elif (bp < (0.50 * total_base_pair[chrom]) and (bp >= (0.25 * total_base_pair[chrom]))):\n",
    "        new_bp_list.append(2)\n",
    "    elif (bp < (0.75 * total_base_pair[chrom]) and (bp >= (0.50 * total_base_pair[chrom]))):\n",
    "        new_bp_list.append(3)\n",
    "    else:\n",
    "        new_bp_list.append(4)\n",
    "\n",
    "all_traits_merged[\"BP_DISCRETE\"] = new_bp_list"
   ]
  },
  {
   "cell_type": "code",
   "execution_count": 37,
   "metadata": {},
   "outputs": [],
   "source": [
    "effect_allele = {\"T\": 1, \"A\": 2, \"G\": 3, \"C\": 4, \"?\": -10}\n",
    "\n",
    "new_effect_allele_list = []\n",
    "for val in all_traits_merged[\"EFFECT_ALLELE\"]:\n",
    "    new_effect_allele_list.append(effect_allele[val])\n",
    "\n",
    "all_traits_merged[\"EFFECT_ALLELE_DISCRETE\"] = new_effect_allele_list"
   ]
  },
  {
   "cell_type": "code",
   "execution_count": 38,
   "metadata": {},
   "outputs": [
    {
     "data": {
      "text/html": [
       "<div>\n",
       "<style scoped>\n",
       "    .dataframe tbody tr th:only-of-type {\n",
       "        vertical-align: middle;\n",
       "    }\n",
       "\n",
       "    .dataframe tbody tr th {\n",
       "        vertical-align: top;\n",
       "    }\n",
       "\n",
       "    .dataframe thead th {\n",
       "        text-align: right;\n",
       "    }\n",
       "</style>\n",
       "<table border=\"1\" class=\"dataframe\">\n",
       "  <thead>\n",
       "    <tr style=\"text-align: right;\">\n",
       "      <th></th>\n",
       "      <th>BETA</th>\n",
       "      <th>CHR</th>\n",
       "      <th>BP</th>\n",
       "      <th>OR</th>\n",
       "      <th>RAF</th>\n",
       "      <th>PVALUE</th>\n",
       "      <th>VARIANT</th>\n",
       "      <th>EFFECT_ALLELE</th>\n",
       "      <th>TRAIT</th>\n",
       "      <th>MAPPED_GENE_LIST</th>\n",
       "      <th>NUM_MAPPED_GENES</th>\n",
       "      <th>TRAITS_ASSOCIATED_WITH_MAPPED_GENES</th>\n",
       "      <th>BP_DISCRETE</th>\n",
       "      <th>EFFECT_ALLELE_DISCRETE</th>\n",
       "    </tr>\n",
       "  </thead>\n",
       "  <tbody>\n",
       "    <tr>\n",
       "      <th>0</th>\n",
       "      <td>-10.0</td>\n",
       "      <td>11.0</td>\n",
       "      <td>76588150.0</td>\n",
       "      <td>1.22</td>\n",
       "      <td>-10.0</td>\n",
       "      <td>1.000000e-08</td>\n",
       "      <td>rs2155219</td>\n",
       "      <td>T</td>\n",
       "      <td>seasonal allergic rhinitis</td>\n",
       "      <td>[EMSY, AP001189.2]</td>\n",
       "      <td>2</td>\n",
       "      <td>-</td>\n",
       "      <td>3</td>\n",
       "      <td>1</td>\n",
       "    </tr>\n",
       "    <tr>\n",
       "      <th>1</th>\n",
       "      <td>-10.0</td>\n",
       "      <td>5.0</td>\n",
       "      <td>110810746.0</td>\n",
       "      <td>1.39</td>\n",
       "      <td>-10.0</td>\n",
       "      <td>1.000000e-08</td>\n",
       "      <td>rs17513503</td>\n",
       "      <td>G</td>\n",
       "      <td>seasonal allergic rhinitis</td>\n",
       "      <td>[SLC25A46, AC008782.1]</td>\n",
       "      <td>2</td>\n",
       "      <td>-</td>\n",
       "      <td>3</td>\n",
       "      <td>3</td>\n",
       "    </tr>\n",
       "    <tr>\n",
       "      <th>2</th>\n",
       "      <td>-10.0</td>\n",
       "      <td>4.0</td>\n",
       "      <td>122451978.0</td>\n",
       "      <td>1.19</td>\n",
       "      <td>-10.0</td>\n",
       "      <td>1.000000e-06</td>\n",
       "      <td>rs2069772</td>\n",
       "      <td>C</td>\n",
       "      <td>seasonal allergic rhinitis</td>\n",
       "      <td>[IL2]</td>\n",
       "      <td>1</td>\n",
       "      <td>-</td>\n",
       "      <td>3</td>\n",
       "      <td>4</td>\n",
       "    </tr>\n",
       "    <tr>\n",
       "      <th>3</th>\n",
       "      <td>-10.0</td>\n",
       "      <td>16.0</td>\n",
       "      <td>9305867.0</td>\n",
       "      <td>1.18</td>\n",
       "      <td>-10.0</td>\n",
       "      <td>2.000000e-06</td>\n",
       "      <td>rs631208</td>\n",
       "      <td>A</td>\n",
       "      <td>seasonal allergic rhinitis</td>\n",
       "      <td>[LINC02177, RPL21P119]</td>\n",
       "      <td>2</td>\n",
       "      <td>-</td>\n",
       "      <td>1</td>\n",
       "      <td>2</td>\n",
       "    </tr>\n",
       "    <tr>\n",
       "      <th>4</th>\n",
       "      <td>-10.0</td>\n",
       "      <td>1.0</td>\n",
       "      <td>51393570.0</td>\n",
       "      <td>1.35</td>\n",
       "      <td>-10.0</td>\n",
       "      <td>2.000000e-06</td>\n",
       "      <td>rs6673480</td>\n",
       "      <td>T</td>\n",
       "      <td>seasonal allergic rhinitis</td>\n",
       "      <td>[EPS15]</td>\n",
       "      <td>1</td>\n",
       "      <td>-</td>\n",
       "      <td>1</td>\n",
       "      <td>1</td>\n",
       "    </tr>\n",
       "  </tbody>\n",
       "</table>\n",
       "</div>"
      ],
      "text/plain": [
       "   BETA   CHR           BP    OR   RAF        PVALUE     VARIANT  \\\n",
       "0 -10.0  11.0   76588150.0  1.22 -10.0  1.000000e-08   rs2155219   \n",
       "1 -10.0   5.0  110810746.0  1.39 -10.0  1.000000e-08  rs17513503   \n",
       "2 -10.0   4.0  122451978.0  1.19 -10.0  1.000000e-06   rs2069772   \n",
       "3 -10.0  16.0    9305867.0  1.18 -10.0  2.000000e-06    rs631208   \n",
       "4 -10.0   1.0   51393570.0  1.35 -10.0  2.000000e-06   rs6673480   \n",
       "\n",
       "  EFFECT_ALLELE                       TRAIT        MAPPED_GENE_LIST  \\\n",
       "0             T  seasonal allergic rhinitis      [EMSY, AP001189.2]   \n",
       "1             G  seasonal allergic rhinitis  [SLC25A46, AC008782.1]   \n",
       "2             C  seasonal allergic rhinitis                   [IL2]   \n",
       "3             A  seasonal allergic rhinitis  [LINC02177, RPL21P119]   \n",
       "4             T  seasonal allergic rhinitis                 [EPS15]   \n",
       "\n",
       "  NUM_MAPPED_GENES TRAITS_ASSOCIATED_WITH_MAPPED_GENES  BP_DISCRETE  \\\n",
       "0                2                                   -            3   \n",
       "1                2                                   -            3   \n",
       "2                1                                   -            3   \n",
       "3                2                                   -            1   \n",
       "4                1                                   -            1   \n",
       "\n",
       "   EFFECT_ALLELE_DISCRETE  \n",
       "0                       1  \n",
       "1                       3  \n",
       "2                       4  \n",
       "3                       2  \n",
       "4                       1  "
      ]
     },
     "execution_count": 38,
     "metadata": {},
     "output_type": "execute_result"
    }
   ],
   "source": [
    "all_traits_merged.head()"
   ]
  },
  {
   "cell_type": "code",
   "execution_count": null,
   "metadata": {},
   "outputs": [],
   "source": []
  },
  {
   "cell_type": "code",
   "execution_count": null,
   "metadata": {},
   "outputs": [],
   "source": []
  },
  {
   "cell_type": "code",
   "execution_count": null,
   "metadata": {},
   "outputs": [],
   "source": []
  },
  {
   "cell_type": "code",
   "execution_count": null,
   "metadata": {},
   "outputs": [],
   "source": []
  },
  {
   "cell_type": "code",
   "execution_count": null,
   "metadata": {},
   "outputs": [],
   "source": []
  },
  {
   "cell_type": "code",
   "execution_count": 12,
   "metadata": {},
   "outputs": [],
   "source": [
    "# Save final dataset as a CSV\n",
    "all_traits_merged.to_csv(\"final_dataset.csv\", index = False)"
   ]
  }
 ],
 "metadata": {
  "kernelspec": {
   "display_name": "Python 3",
   "language": "python",
   "name": "python3"
  },
  "language_info": {
   "codemirror_mode": {
    "name": "ipython",
    "version": 3
   },
   "file_extension": ".py",
   "mimetype": "text/x-python",
   "name": "python",
   "nbconvert_exporter": "python",
   "pygments_lexer": "ipython3",
   "version": "3.8.5"
  }
 },
 "nbformat": 4,
 "nbformat_minor": 4
}
