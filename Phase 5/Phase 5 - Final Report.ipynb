{
 "cells": [
  {
   "cell_type": "markdown",
   "metadata": {},
   "source": [
    "# Meta-Analysis of Allergy Genome-Wide Association Studies"
   ]
  },
  {
   "cell_type": "markdown",
   "metadata": {},
   "source": [
    "### Introduction"
   ]
  },
  {
   "cell_type": "markdown",
   "metadata": {},
   "source": [
    "In the United States, more than 50 million individuals suffer with allergies. Every year, there are about 200,000 emergency room visits due to accidental allergic responses. Approximately $25 billion is spent on these visits and treatments annually. Overall, allergic disease is the 6th leading cause of chronic illness in the U.S. and is on the [rise](https://www.aafa.org/allergy-facts/).\n",
    "\n",
    "An allergic reaction occurs when an individual's immune system overreacts to a substance he or she comes into contact with. These substances are called allergens and they stimulate the immune response. Upon exposure to an allergen, the immune system produces antibodies, which bind to mast cells, causing the release of histamine. Histamine results in allergenic symptoms such as rashes, swelling, and coughing.\n",
    "\n",
    "<img src = \"Allergy_diagram.png\">\n",
    "<center><i><a href = \"https://www.google.com/url?sa=i&url=https%3A%2F%2Fthebiologist.rsb.org.uk%2Fbiologist-features%2F158-biologist%2Ffeatures%2F1512-focus-on-allergies&psig=AOvVaw08HjasXBPdE9Ouf-8PBmHi&ust=1606628430122000&source=images&cd=vfe&ved=0CAIQjRxqFwoTCJDJmLnDpO0CFQAAAAAdAAAAABAT\">Figure 1</a>: Allergic Reaction Diagram</i></center>\n",
    "\n",
    "There are several proposed causes of allergies, but there is no single reason why someone is allergic to a specific substance. Some scientists suggest that individuals that are exposed to a wide range of allergens at a young age are less likely to develop allergies. Others say [allergies are innate](https://www.medicalnewstoday.com/articles/264419#risk-factors) and that there is nothing we can do to prevent them. Ideally, we will learn more about the causes of allergies, as the main concern is preventing potential life-threatening allergic reactions. Current research has suggested that [genetics plays a role](https://www.ncbi.nlm.nih.gov/pmc/articles/PMC4415518/) and that an individual's genetic makeup can impact the predisposition of allergies. Specifically, genetic mutations can increase the risk of having allergies. One [common mutation that is analyzed](https://www.ncbi.nlm.nih.gov/pmc/articles/PMC3516859/) is a single-nucleotide polymorphism (SNP). A SNP is a mutation at a single position (locus) in an individual's genome.\n",
    "\n",
    "<img src = \"SNP.png\" style=\"width: 400px;\"><center><i><a href = \"https://www.google.com/url?sa=i&url=https%3A%2F%2Fsteemit.com%2Fbiology%2F%40alv%2Fsingle-nucleotide-polymorphisms-single-letter-changes-in-dna-provide-road-signs-to-map-human-traits&psig=AOvVaw1b4yApkyLJDZYhPC9ac_zk&ust=1606631862869000&source=images&cd=vfe&ved=0CAIQjRxqFwoTCMjflaHQpO0CFQAAAAAdAAAAABAR\">Figure 2</a>: Single-Nucleotide Polymorphism (SNP)</i></center>\n",
    "\n",
    "Figure 2 displays an example of a SNP. The purple genome is representative of the human genome, so it is the \"true\" genome. The blue and orange genomes have a SNP at the highlighted position. The true nucleotide is adenine (A), but the observed genomes have guanine (G) and thymine (T) at the location. There are approximately [3 billion base pair locations](https://www.genome.gov/human-genome-project/Completion-FAQ) in the human genome, which contain about [4-5 million SNPs](https://medlineplus.gov/genetics/understanding/genomicresearch/snp/). Scientists use complex sequencing technology to identify SNPs, and computational methods analyze these results.\n",
    "\n",
    "One computational tool is a genome-wide association study (GWAS). [GWAS](https://www.ncbi.nlm.nih.gov/pmc/articles/PMC4298800/) aim to identify SNPs associated with a specific trait of interest, which is called a phenotype. After these studies are completed, the analysis of the associations is a critical step. In some cases, individuals identify cohorts for association studies and then analyze those results independently. However, in the current era of big data, there are repositories that store the results of many association studies, which allows for large scale meta-analyses. These databases and repositories expedite the discovery of novel findings since researchers don't need to perform entire GWAS, which includes sequencing many individuals' genomes, but instead can simply aggregate the findings of several GWAS to improve statistical power.\n",
    "\n",
    "One large repository is the [GWAS Catalog](https://www.ebi.ac.uk/gwas/). It stores the results of many GWAS, grouped by phenotype. Overall, the Catalog hosts the results of 4788 publications, which include 216,255 SNP associations. Specifically related to allergic disease, there are 18 allergy phenotypes with a total of 1,556 SNP associations. These phenotypes include some of the most common allergy phenotypes such as peanut allergy, allergic rhinitis, atopic dermatitis, and atopy.\n",
    "\n",
    "I became interested in allergy research because of my own journey with allergies. At a young age, I discovered that I was allergic to peanuts, walnuts, almonds, hazelnuts, macadamia nuts, cashews, pistachios, and eggs (yes, no cake) after a few severe allergic reactions. Fortunately, I have gone through a desensitization process to increase my tolerance and am now only allergic to cashews, pistachios, and eggs. Through this project, I analyzed the results of many GWAS to learn more about allergic disease. I was interested in many areas of the genetic aspect of allergies, but focused on a few after some initial reading and data exploration.\n",
    "\n",
    "***\n",
    "\n",
    "__Important Terminology__\n",
    "* GWAS can be singular or plural ('S' can represent study or studies).\n",
    "* Throughout my project, I refer to base pair location and chromosomal location, which sound similar but are distinct terms. Base pair location refers to the location of a SNP _on a specific chromosome_, while chromosomal location refers to _the chromosome pair (1-23)_ that the SNP is located on. For example, a SNP located at the very beginning of chromosome 10 has a base pair location of 1 and a chromosomal location of 10.\n",
    "* Odds ratio (OR) is the ratio of the SNP's occurance in cases to controls. Cases represent individuals with the allergy phenotype and controls represent individuals without the allergy phenotype. Thus, a SNP with OR greater than 1 is classified as \"damaging\" since it is more likely to occur in individuals with the allergy phenotype, and a SNP with OR less than 1 is classified as \"protective\" since it is more likely to occur in individuals without the allergy phenotype.\n",
    "* The effect allele is the nucleotide of the present SNP. If the expected nucleotide is adenine (from the reference genome), but the observed nucleotide is guanine, then the SNP's effect allele is guanine.\n",
    "* Throughout my project, I refer to the \"strength of a SNP association\" (_this concept is very important since almost every part of my data analysis is based on it - hence the long explanation_). This is based on a SNP's p-value. In GWAS, scientists perform statistical analysis to calculate a p-value for every SNP association. Then, the SNP's association strength is imputed based on a few thresholds. For example, if a SNP's p-value is less than X, then the SNP's association strength is Y. There is a generic formula used to calculate the thresholds (X), which depends on the dataset, and I go through my calculation of the threshold in the data analysis section. There are three main classes used to represent the association strength (Y): not significant, suggestive association, and genome-wide significance. In layman's terms, genome-wide significance is \"extremely significant\", suggestive association is \"kind of significant/possibly significant\", and not significant is self-explanatory. Computational biologists use these terms to represent the likelihood of a SNP being associated with the phenotype. For example, if a SNP reaches genome-wide significance, then the SNP is \"extremely likely\" to be associated with the phenotype. Studies typically analyze all three thresholds or only two (genome-wide significance and not significant), but I analyzed both. Lastly, I use a few different phrases, just to make it less monotonous, which all refer to this concept: \"SNP association level\", \"association level\", \"SNP association degree\", \"degree of SNP association\", and \"severity of association\".\n",
    "\n",
    "***\n",
    "\n",
    "__Research Questions__\n",
    "* How does base pair location impact the degree of SNP association? For example, are SNPs located at the beginning of chromosomes (smaller base pair location) more likely do be associated with allergic disease?\n",
    "* How do odds ratio, chromosomal location, and the effect allele impact a SNP's association level? Can we use some of these characteristics to predict if a SNP will have a strong association?\n",
    "\n",
    "***\n",
    "\n",
    "Previous research in this field has followed the same general pattern.\n",
    "1. Identify individuals with and without a phenotype of interest (cases/controls)\n",
    "2. Sequence all the genomes\n",
    "3. Compare each sequenced genome with a reference genome to identify SNPs\n",
    "4. Perform statistical analysis to identify if each SNP association is significant\n",
    "\n",
    "This workflow hasn't changed over the past several years, with the exception of researchers performing meta-analyses by including multiple phenotypes of interest. The statistical analysis part significantly differs from study to study, as researchers attempt to identify significant associations. However, all of these analyses compare a set of SNPs with each other, and don't use a reference cohort or model as a baseline. Recent research has suggested using some type of computational modeling to improve the identification of novel associations. I proposed that after step 3, we should use the sequenced data and relevant biological information about each SNP to predict its degree of association. I believe that we can use several phenotypes to create a baseline classification model, and then this model can be used to aid in the discovery of new significant associations for other phenotypes, including newly-discovered phenotypes.\n",
    "\n",
    "This model has several benefits. It reduces the computational power of the extensive statistical analysis, since such analysis will no longer be required (other than when creating the initial model). A standardized baseline model is better than having scientists and researchers perform different statistical tests in their studies. Different tests can result in disagreements about whether an association is truly significant, so having the model set a standard threshold will prevent disputes about significance from occuring. Additionally, this model can easily be replicated for unrelated diseases, as the same model generation procedure can be used for a different initial dataset of the specified phenotypes. Furthermore, this model can be expanded to take an individual's genome as an input, identify if the individual has a significant SNP association with some disease (based on the previously trained data, so no new GWAS is required for the individual), and then inform the individual to take the necessary precautions. This will be very helpful, especially in the field of allergic disease. For example, if the model predicts that the individual is allergic to eggs, than the individual will be informed not to eat eggs until they undergo extensive blood tests to verify if he or she has the allergy. This could prevent a potentially fatal allergic reaction. A counterargument states that everyone should be tested to see if they have an allergy. However, this is not feasible since there are many allergens, so we can't test everyone for all the different allergens. Instead, we sequence the individual's genome once, and then use different models (one for each phenotype) to predict whether he or she has that phenotype, and then perform tests for those predicted phenotypes. Ideally, the accuracy of the model can exceed 90%, but the model will still be very helpful at slightly lower accuracies, as there is no harm in predicting that the individual has the phenotype when they don't have it. In this regard, the model can have false positives, but the percentage of false negatives needs to be minimized.\n",
    "\n",
    "In my project, I created several different types of models. My focus was to use some features in the dataset to predict the degree of a SNP's association, and I incorporated 18 allergy phenotypes into the analysis. Some models included using only one feature (base pair location), while others included four features (base pair location, odds ratio, chromosomal location, effect allele). The basic Linear and Logistic Regression Models had prediction accuracies lower than 60%, and even some of the more complicated models (Support Vector Machine, Neural Networks, etc.) were below 50%. However, the Random Forest Model had an average accuracy of 80%. This model can be applied to predict the severity of SNP associations for related allergy phenotypes. Additionally, I also learned about the impact of a SNP's base pair location on its degree of association from these models. I found that it has a very limited impact, so SNPs located at the beginning and end of chromosomes don't have significantly different association levels."
   ]
  },
  {
   "cell_type": "markdown",
   "metadata": {},
   "source": [
    "### Data Collection, Data Cleaning, and Exploratory Data Analysis"
   ]
  },
  {
   "cell_type": "markdown",
   "metadata": {},
   "source": [
    "I obtained my dataset from the [GWAS Catalog](https://www.ebi.ac.uk/gwas/). It has lots of data available for many different traits. I started by identifying the traits related to allergic disease that the GWAS Catalog had data for. The traits included allergic rhinitis, atopic eczema, atopy, peanut allergy, along with several others. \n",
    "\n",
    "The GWAS Catalog had individual csv files for many of these traits, so I was able to download them all and then merge them. However, I had to scrape the GWAS Catalog using its '/associations' API endpoint to obtain the data for some traits. The web scraping results were very different from the csv files so I had to modify the dataframe generated from the csv files so that they had the same format. This involved renaming columns, splitting columns into multiple columns, removing extra spaces and breaks, and modifying a few data types. __I have detailed this process (with code) in the supplemental jupyter notebook (Data Collection section).__\n",
    "\n",
    "***\n",
    "\n",
    "During the data cleaning process, I handled each column (feature) independently. I started by analyzing the unique values to identify if any data was incorrectly reported. Then I checked the type of each column to determine if it would be helpful to convert it to a different type. I also checked the number of missing values and how they were repesented. They were repesented in several different ways including NaN, blank spaces, hyphens, so I processed these values to create some consistency among missing values. __I haved detailed the specific steps (with code) in the supplemental jupyter notebook (Data Cleaning section). The final cleaned dataset (final_dataset.csv) is also displayed in this notebook.__\n",
    "\n",
    "***\n",
    "\n",
    "When exploring the dataset, I started by identifying the features that were correlated. Next, I analyzed the summary statistics and unique count distributions for each individual column. Finally, I explored extracting smaller subsets from the entire dataset for individual phenotypes. __I have detailed the specific analyses (with code and plots) in the supplemental jupyter notebook (Exploratory Data Analysis section).__"
   ]
  },
  {
   "cell_type": "markdown",
   "metadata": {},
   "source": [
    "### Data Description"
   ]
  },
  {
   "cell_type": "markdown",
   "metadata": {},
   "source": [
    "__Motivation:__ _How was the dataset created and what was the purpose?_\n",
    "\n",
    "I obtained the original datasets from the GWAS Catalog. The GWAS Catalog was founded by the National Human Genome Research Institute (NHGRI) in 2008. The catalog was created in response to the significant increase in genome-wide association studies (GWAS) published. It has been challenging to identify published GWAS to fit specific needs since there are so many studies and each study analyzes multiple phenotypes. There were limited resources that combined the results of all these studies. The GWAS Catalog is a large-scale database of associations that allows users to search for GWAS results, and visualize them using several biological criteria.\n",
    "\n",
    "The GWAS Catalog was developed by the European Bioinformatics Institue at the European Molecular Biology Laboratory (EMBL-EMI) in collaboration with the NHGRI. There was a team of geneticists, molecular biologics, and software developers who created it. The group was led by Helen Parkinson, Fiona Cunningham, Paul Flicek, and Lucia Hindorff.\n",
    "\n",
    "The GWAS Catalog was funded by the NHGRI Grant Number 2U41HG007823. There was not a specific grant name. The grant was delivered by collaboration between the NHGRI, EMBL-EBI, and the National Center for Biotechnology Information (NCBI).\n",
    "\n",
    "__Composition:__ _What do the rows and columns in the dataset represent? How many of each are there? Are there relationships or recommended data splits? Are any parts of the dataset confidential or possibly sensitive?_\n",
    "\n",
    "Each row in the dataset represents one SNP. This is the only type of instance in the dataset. In the entire dataset, there are 1543 total instances (SNPs). SNPs can be associated with diseases, and in this dataset all the SNPs are associated with an allergy-related disease. So, this sample is not representative of all SNP associations. This choice was deliberate because I wanted to focus on allergic disease, so I only chose the related phenotypes. The non-allergy SNP associations were deliberately not included.\n",
    "\n",
    "\n",
    "Each instance consists of 14 pieces of information (there are 14 columns) that provide information about the SNP association. In order, the columns are BETA, CHR, BP, OR, RAF, PVALUE, VARIANT, EFFECT_ALLELE, TRAIT, MAPPED_GENE_LIST, NUM_MAPPED_GENES, TRAITS_ASSOCIATED_WITH_MAPPED_GENES, BP_DISCRETE, and EFFECT_ALLELE_DISCRETE.\n",
    "\n",
    "1. BETA: Beta-coefficient associated with the SNP\n",
    "2. CHR: Chromsome the SNP is located on\n",
    "3. BP: Base pair location (on the chromosome) of the SNP\n",
    "4. OR: Odds ratio associated with the SNP\n",
    "5. RAF: Risk allele (effect allele) frequency associated with the SNP\n",
    "6. PVALUE: P-value for the SNP association (with the allergic disease trait)\n",
    "7. VARIANT: rsID of the SNP\n",
    "8. EFFECT_ALLELE: effect allele (risk allele) - resulting allele (T, A, G, C) because of the SNP\n",
    "9. TRAIT: trait (phenotype) the SNP is associated with\n",
    "10. MAPPED_GENE_LIST: genes located near the SNP\n",
    "11. NUM_MAPPED_GENES: total number of genes located near the SNP\n",
    "12. TRAITS_ASSOCIATED_WITH_MAPPED_GENES: traits associated with the genes located near the SNP\n",
    "13. BP_DISCRETE: discrete transform of the continuous base pair location (continuous # -> 1-4)\n",
    "14. EFFECT_ALLELE_DISCRETE: discrete transform of the effect allele (T/A/G/C -> 1-4)\n",
    "\n",
    "There is a label associated with each instance. Every SNP has an rsID that is used for identification and it is a unique string for each SNP. The rsID format is a string starting with 'rs' followed by a sequence of numbers. The character limit is 40 bytes.\n",
    "\n",
    "There is some information missing from individual instances. For examples, some columns are missing data because it was not collected during the actual study, so it is not in the GWAS Catalog. A few examples of these columns include BETA, RAF, and EFFECT_ALLELE. Additionally, some SNPs are not located near genes (they are located in an intronic region), so there is nothing (empty list) in the MAPPED_GENES column. As a result, there is also nothing in the TRAITS_ASSOCIATED_WITH_MAPPED_GENES column.\n",
    "\n",
    "The relationships between individual instances can easily (relatively) be determined. Each instance is on its own row. We can see what information instances (SNPs) have in common by comparing the column values. For example, we can analyze the CHR column to group SNPs based on the chromosome they are located on.\n",
    "\n",
    "There are no recommended data splits. I hoped to find some after analyzing the dataset. For example, maybe RAF and EFFECT_ALLELE can be used to predict a SNP's associated trait.\n",
    "\n",
    "There aren't known errors in the dataset. The software used to add data to the GWAS Catalog is expected to catch errors (ex. chromosome > 23 or invalid effect allele). There are a few redundancies within the dataset. For example, the dataset contains both BETA and OR even though one can be calculated from the other. For this reason, I found it interesting that the BETA column had several missing values while the OR column didn't. Also, some of the additional columns that I added to the dataset (BP_DISCRETE, EFFECT_ALLELE_DISCRETE) were helpful for analysis but introduced some redundancy since their continuous and string counterparts are still included in the dataset.\n",
    "\n",
    "This dataset is self-contained. It does not contain any confidential data. None of the data is offensive, insulting, threatening, or anxiety-inducing. The dataset does relate to people. The GWAS Catalog obtained some of its data from studies that sequenced individual's genomes. The dataset does not identify any subpopulations. Additionally, one can't identify individuals based on the dataset unless he or she has access to the individual's sequenced data, and that also wouldn't be enough because many people can have this SNP. The dataset does not contain any sensitive information.\n",
    "\n",
    "__Collection Process:__ _How was the dataset assembled? How long did it take to collect all the data? Does the dataset involve people? If so, were they properly notified about the data collection process and how their data would be used?_\n",
    "\n",
    "The data associated with each instance was obtained from other GWAS. It was verified twice by different qualified members from the NHGRI during a two-step process. Scientists that conducted GWAS submitted their results to the GWAS Catalog. The data underwent an intensive review process and then an automated pipeline was used to extract any extra necessary biological information. This pipeline involved several software procedures (private and open source), including the [Ensembl API](http://rest.ensembl.org/). These methods were either verified previously by other studies or tested by the NHGRI and EMBL-EBI.\n",
    "\n",
    "This dataset is a sample from the entire GWAS catalog. I only obtained the data related to allergic disease. [Here](https://www.ebi.ac.uk/gwas/search?query=allergic%20disease) is an example of one of the datasets I downloaded and merged with several others. The data in the GWAS Catalog was collected by a team of geneticists, molecular biologists, and software developers. They worked for NHGRI and EMBL-EBI, and were compensated by their employers.\n",
    "\n",
    "The GWAS Catalog was published in 2008, but is still being updated. The dataset's instances were obtained from studies submitted to the GWAS Catalog, which may not have occurred in the exact same year as they were published in the Catalog. For example, a study may have occurred in 2010 and added to the catalog in 2012. This slight delay is often due to the time needed to verify the results of the submitted study.\n",
    "\n",
    "There were no ethical review processes since the GWAS Catalog didn't obtain the human data itself. It obtained the data from the studies, which must have needed some review process (most likely IRB approval), but that depends on the specific study.\n",
    "\n",
    "The dataset does specifically relate to people. The catalog collects its data from GWAS, which used human genetic data. But the GWAS Catalog is not involved with the human participant process and just obtains the GWAS results. These results don't contain human-identifiable information.\n",
    "\n",
    "__Preprocessing/Cleaning/Labeling:__ _Did the dataset creators perform any preprocessing? Was the original raw data stored? Is the software used for preprocessing open-source?_\n",
    "\n",
    "Before adding data to the GWAS Catalog, a team of curators manually verifies that the data is accurate. The team examines the study that reported the data to check the accuracy and consistency of the findings. Some of the software used is noted [here](https://www.ebi.ac.uk/gwas/docs/pilots), but not all of it is open-source. After obtaining the data from a study, an automated pipeline adds more biological information before it is published to the GWAS Catalog. The pipeline identifies additional known biological information (such as the SNP's base pair location) using the [Ensembl API](http://rest.ensembl.org/). However, the automated pipeline itself is not open-source.\n",
    "\n",
    "__Uses:__ _Has this dataset been used for other tasks? If so, are these tasks documented? If not, are there tasks this dataset could be used for? Are there tasks for which it should not be used for?_\n",
    "\n",
    "I do not believe that my exact dataset has been used for other tasks. That would require an individual to follow the exact same steps that I did (merge the same datasets, scrape using the same endpoints, and perform the same preprocessing steps). However, others have definitely analyzed some of the same associations (rows) that my dataset has. There is not a specific task that they would have used the data for. Some tasks include performing a meta-analysis of GWAS, identifying similar SNPs and genes associated with different traits, and aggregating GWAS results into trait-specific/class-specific data repositories. There is not a repository that links to all papers that use the GWAS Catalog. However, all studies are requested to cite the catalog in the following way: \"Summary statistics were downloaded from the NHGRI-EBI GWAS Catalog on XX/XX/XXXX\".\n",
    "\n",
    "There are several scientists and research groups that submitted their studies to the GWAS Catalog. The privacy policy is included on the [GWAS Catalog Website](https://www.ebi.ac.uk/gwas/docs/about). This doesn't directly affect future users, but they should read about the policy if it is something they are concerned about. Future users should also be careful if they are restricting analysis to a specific time period. The GWAS Catalog announces updates and new releases on its website, but does not remove data from several years ago. So if future users only want to analyze data since 2015, as an example, they should carefully parse the data to only use entries within that time range. The data states the study it was extracted from, so users can easilly subset based on a date.\n",
    "\n",
    "There are not any specific taks for which the GWAS Catalog should not be used. There are just tasks for which it can be used to reduce the amount of web scraping and preprocessing required."
   ]
  },
  {
   "cell_type": "markdown",
   "metadata": {},
   "source": [
    "### Preregistration Statement"
   ]
  },
  {
   "cell_type": "markdown",
   "metadata": {},
   "source": [
    "__Analysis 1:__ I will create a logistic regression model that predicts the binarized SNP association level (significant or not significant) based on the discrete base pair location.\n",
    "\n",
    "__Analysis 2:__ I will create a linear regression model that predicts the discrete SNP association value (not significant, suggested significance, genome-wide significance) based on the continous odds ratio, discrete chromosomal location, discrete base pair location, and the discrete effect allele.\n",
    "\n",
    "I chose to incorporate these features because they were correlated and previous literature suggests that they might impact the SNP association values for allergic disease since they have impacted them for other traits.\n",
    "\n",
    "I will generate these models for the top three phenotypes in the dataset. If these models have a high accuracy, then it will be beneficial since there have been a few models that have incorporated allergic disease phenotype data in the past. This model can then be used as a building block for modeling data from related allergy phenotypes. If the results are not significant, then I will identify potential reasons why, such as if certain features should not have been included. I will further analyze the features in unsuccessful models in an individual capacity. An unsuccessful result would still be interesting because it would highlight the differences in allergy models with models for other diseases since some of these features have successfuly be used to model other diseases."
   ]
  },
  {
   "cell_type": "markdown",
   "metadata": {},
   "source": [
    "### Data Analysis and Evaluation of Significance"
   ]
  },
  {
   "cell_type": "markdown",
   "metadata": {},
   "source": [
    "_I combined the data analysis and evaluation of significance sections to improve the flow. Generally, I performed one analysis, evaluated the results, discussed possible ways to improve performance, and then moved onto the next analysis. Isolating the specific data analysis parts prevented readers from understanding the reasoning for subsequent analyses. Additionally, the feedback I received during phase four stated that this structure improved the flow of the findings I presented._"
   ]
  },
  {
   "cell_type": "code",
   "execution_count": 1,
   "metadata": {},
   "outputs": [],
   "source": [
    "import pandas as pd\n",
    "import numpy as np\n",
    "import math\n",
    "import matplotlib.pyplot as plt\n",
    "import seaborn as sns\n",
    "from sklearn.linear_model import LinearRegression, LogisticRegression\n",
    "from sklearn.model_selection import train_test_split, cross_val_score, KFold\n",
    "from sklearn.ensemble import RandomForestClassifier, GradientBoostingClassifier, AdaBoostClassifier\n",
    "from sklearn.preprocessing import StandardScaler\n",
    "from sklearn.decomposition import PCA\n",
    "from sklearn.neighbors import KNeighborsClassifier\n",
    "from sklearn.metrics import accuracy_score\n",
    "from sklearn.svm import SVC\n",
    "from sklearn.neural_network import MLPClassifier"
   ]
  },
  {
   "cell_type": "code",
   "execution_count": 2,
   "metadata": {},
   "outputs": [],
   "source": [
    "# Load the (mostly) preprocessed dataset and remove some missing values (discussed later why they weren't removed before)\n",
    "final_dataset = pd.read_csv(\"final_dataset.csv\")\n",
    "all_few_missing = final_dataset[(final_dataset[\"BP\"] != -10) & (final_dataset[\"OR\"] != -10)]"
   ]
  },
  {
   "cell_type": "markdown",
   "metadata": {},
   "source": [
    "#### Logistic Regression\n",
    "\n",
    "First, I created a Logistic Regression Model to predict SNP association level based on discrete base pair location. My main goal was to create a model to predict this outcome using the features in the dataset. I started with the discrete base pair feature because of the correlation I observed while exploring the dataset (and because this was the first analysis that I preregistered).\n",
    "\n",
    "I created discrete SNP association levels based on the p-value of each SNP. In an individual, there is a threshold used to separate genome-wide significant associations with non-genome-wide significant associations. SNPs with p-values less than the threshold are classified as genome-wide significant, while SNPs with p-values greater than the threshold are not. However, there is not a single threshold used for all studies. It varies depending on the total number of SNPs and the number of traits analyzed in the study. One common method for calculating the threshold is: threshold $= \\frac{\\text{standard threshold}}{\\text{# SNPS analyzed } * \\text{ # traits}}$. I slightly modified this formula since I analyzed the results of multiple studies: threshold $= \\frac{\\text{standard threshold}}{\\text{# allergy SNPs in GWAS Catalog } * \\text{ # allergy studies}}$. This resulted in the threshold $= \\frac{5 * 10^{-8}}{830 * 38} = 1.5853 * 10^{-12}$ since $5 * 10^{-8}$ is the standard genome-wide significant threshold.\n",
    "\n",
    "I had to perform some preprocessing prior to creating the model. The initial dataset stored the p-values as continuous values, so I created a new column for the corresponding discrete value. It was 1 if the SNP's p-value was genome-wide significant (less than the threshold) and 0 if it was not (greater than the threshold)."
   ]
  },
  {
   "cell_type": "code",
   "execution_count": 3,
   "metadata": {},
   "outputs": [
    {
     "data": {
      "text/html": [
       "<div>\n",
       "<style scoped>\n",
       "    .dataframe tbody tr th:only-of-type {\n",
       "        vertical-align: middle;\n",
       "    }\n",
       "\n",
       "    .dataframe tbody tr th {\n",
       "        vertical-align: top;\n",
       "    }\n",
       "\n",
       "    .dataframe thead th {\n",
       "        text-align: right;\n",
       "    }\n",
       "</style>\n",
       "<table border=\"1\" class=\"dataframe\">\n",
       "  <thead>\n",
       "    <tr style=\"text-align: right;\">\n",
       "      <th></th>\n",
       "      <th>PVALUE</th>\n",
       "      <th>BP_DISCRETE</th>\n",
       "      <th>PVALUE_DISCRETE_2LEVELS</th>\n",
       "    </tr>\n",
       "  </thead>\n",
       "  <tbody>\n",
       "    <tr>\n",
       "      <th>0</th>\n",
       "      <td>1.000000e-08</td>\n",
       "      <td>3</td>\n",
       "      <td>0</td>\n",
       "    </tr>\n",
       "    <tr>\n",
       "      <th>1</th>\n",
       "      <td>1.000000e-08</td>\n",
       "      <td>3</td>\n",
       "      <td>0</td>\n",
       "    </tr>\n",
       "    <tr>\n",
       "      <th>2</th>\n",
       "      <td>1.000000e-06</td>\n",
       "      <td>3</td>\n",
       "      <td>0</td>\n",
       "    </tr>\n",
       "    <tr>\n",
       "      <th>3</th>\n",
       "      <td>2.000000e-06</td>\n",
       "      <td>1</td>\n",
       "      <td>0</td>\n",
       "    </tr>\n",
       "    <tr>\n",
       "      <th>4</th>\n",
       "      <td>2.000000e-06</td>\n",
       "      <td>1</td>\n",
       "      <td>0</td>\n",
       "    </tr>\n",
       "  </tbody>\n",
       "</table>\n",
       "</div>"
      ],
      "text/plain": [
       "         PVALUE  BP_DISCRETE  PVALUE_DISCRETE_2LEVELS\n",
       "0  1.000000e-08            3                        0\n",
       "1  1.000000e-08            3                        0\n",
       "2  1.000000e-06            3                        0\n",
       "3  2.000000e-06            1                        0\n",
       "4  2.000000e-06            1                        0"
      ]
     },
     "execution_count": 3,
     "metadata": {},
     "output_type": "execute_result"
    }
   ],
   "source": [
    "threshold_genwidesig = (5e-8) / (830 * 38)\n",
    "subset_df_log = all_few_missing[[\"PVALUE\", \"BP_DISCRETE\"]].copy()\n",
    "\n",
    "# Create discrete column\n",
    "subset_df_log[\"PVALUE_DISCRETE_2LEVELS\"] = [1 if val < threshold_genwidesig else 0 for val in all_few_missing.copy()[\"PVALUE\"]]\n",
    "subset_df_log.head()"
   ]
  },
  {
   "cell_type": "markdown",
   "metadata": {},
   "source": [
    "Below, I plotted the distribution of SNPs for the two significance levels. The dataset had approximately 25% more not significant SNPs than genome-wide significant SNPs. This imbalance increases the likelihood of the model overfitting on the not significant SNPs, since the data is largely biased towards that outcome."
   ]
  },
  {
   "cell_type": "code",
   "execution_count": 4,
   "metadata": {},
   "outputs": [
    {
     "data": {
      "image/png": "[encoded data removed]",
      "text/plain": [
       "<Figure size 432x288 with 1 Axes>"
      ]
     },
     "metadata": {
      "needs_background": "light"
     },
     "output_type": "display_data"
    }
   ],
   "source": [
    "# Reached genome-wide significance\n",
    "num_gen_wide = (subset_df_log[\"PVALUE\"] < threshold_genwidesig).sum()\n",
    "\n",
    "# Not reached genome-wide significance\n",
    "num_not_gen_wide = (subset_df_log[\"PVALUE\"] > threshold_genwidesig).sum()\n",
    "\n",
    "plt.bar([\"Genome-Wide Significant\", \"Not Genome-Wide Significant\"], [num_gen_wide, num_not_gen_wide])\n",
    "plt.xlabel(\"Association Level\")\n",
    "plt.ylabel(\"Number of SNPs\")\n",
    "plt.title(\"Distribution of Genome-Wide Significant SNPs\")\n",
    "plt.show()"
   ]
  },
  {
   "cell_type": "markdown",
   "metadata": {},
   "source": [
    "Next, I split the dataset into training and testing sets. I used a testing size of 30% in order to adequately evaluate the model's performance. I fit the Logistic Regression model on the training data, and then evaluated the model. The model performed slightly better than average with an accuracy of 58%. The regression coefficient was negative, indicating that increasing the base pair (moving to a farther location on the chromosome) decreases the likelihood of the SNP reaching genome-wide significance, but the coefficient was very close to 0 so this relationship was very weak. Specifically, decreasing the discrete base pair location by 0.0708 would increase the discrete p-value by 1. There wasn't a lot that I got from this coefficient, since the possible discrete base pair values were 1-4, so a change in 0.0708 wasn't a change from one level to another. I had chosen not to use the continous base pair values because the number of base pairs on each chromosome is different, so I wanted to normalize the location into four quantiles. However, this limited the conclusions I could draw from this model's regression coefficient. Additionally, [previous research](https://www.ncbi.nlm.nih.gov/pmc/articles/PMC3017115/) had not identified a relationship between SNP significance level and chromosomal location. In this regard, the small regression coefficient made sense since it supported previous findings."
   ]
  },
  {
   "cell_type": "code",
   "execution_count": 5,
   "metadata": {},
   "outputs": [
    {
     "name": "stdout",
     "output_type": "stream",
     "text": [
      "Logistic Regression Coefficient: -0.0708\n",
      "Model Prediction Accuracy: 57.9897\n"
     ]
    }
   ],
   "source": [
    "x_train, x_test, y_train, y_test = train_test_split(subset_df_log[[\"BP_DISCRETE\"]], \n",
    "                                                    subset_df_log[\"PVALUE_DISCRETE_2LEVELS\"], \n",
    "                                                    test_size = 0.30, random_state = 10)\n",
    "\n",
    "model_logit = LogisticRegression(random_state = 10).fit(x_train, y_train)\n",
    "print(\"Logistic Regression Coefficient:\", round(model_logit.coef_[0][0], 4))\n",
    "\n",
    "predictions = model_logit.predict(x_test)\n",
    "print(\"Model Prediction Accuracy:\", round(sum(predictions == y_test) * 100 / len(predictions), 4))"
   ]
  },
  {
   "cell_type": "markdown",
   "metadata": {},
   "source": [
    "I investigated potential reasons for the 58% accuracy, and one clear limitation of this model was that it always predicted 0. I plotted the model predictions over the range -100 to 100. The model was only trained with inputs ranging from 1 to 4, so I wasn't really interested in the predicition values outside this range. Ideally, the prediction transition from 0 to 1 would happen within the 1 to 4 range. Since it doesn't, the model always predicted 0 or 1 (0 in this case), and thus only predicted about half correctly."
   ]
  },
  {
   "cell_type": "code",
   "execution_count": 6,
   "metadata": {},
   "outputs": [
    {
     "data": {
      "image/png": "[encoded data removed]",
      "text/plain": [
       "<Figure size 432x288 with 1 Axes>"
      ]
     },
     "metadata": {
      "needs_background": "light"
     },
     "output_type": "display_data"
    }
   ],
   "source": [
    "x = [ [i] for i in range(-100, 100)] # generate model prediction format\n",
    "y = model_logit.predict(x)\n",
    "\n",
    "plt.plot(x, y)\n",
    "plt.xlabel(\"BP DISCRETE\")\n",
    "plt.ylabel(\"P-value Discrete Prediction\")\n",
    "plt.title(\"Logistic Regression Model Predictions\")\n",
    "plt.show()"
   ]
  },
  {
   "cell_type": "markdown",
   "metadata": {},
   "source": [
    "I tried modifying the train/test split sizes to see if this could possibly improve the model. I aimed to create a model that transitioned within the 1 to 4 range. Otherwise, the model would be fairly trivial as it only predicts one value for the range I'm interested in. I created models that ranged in test sizes from 0.1 to 0.5 to see if this impacted the transition range or accuracy."
   ]
  },
  {
   "cell_type": "code",
   "execution_count": 7,
   "metadata": {},
   "outputs": [],
   "source": [
    "test_sizes = []\n",
    "reg_coeffs = []\n",
    "scores = []\n",
    "\n",
    "# Iterate over test sizes\n",
    "for i in range(10, 55, 5):\n",
    "    \n",
    "    test_size = i/100 # convert test size to a decimal\n",
    "    test_sizes.append(test_size * 100)\n",
    "    train_size = 1 - test_size\n",
    "\n",
    "    x_train, x_test, y_train, y_test = train_test_split(subset_df_log[[\"BP_DISCRETE\"]], \n",
    "                                                        subset_df_log[\"PVALUE_DISCRETE_2LEVELS\"], \n",
    "                                                        test_size = test_size, random_state = 10)\n",
    "\n",
    "    model_logit = LogisticRegression(random_state = 10).fit(x_train, y_train)\n",
    "    reg_coeffs.append(model_logit.coef_[0][0])\n",
    "\n",
    "    predictions = model_logit.predict(x_test)\n",
    "    score = sum(predictions == y_test) * 100 / len(predictions) # determine the accuracy score\n",
    "    scores.append(score)"
   ]
  },
  {
   "cell_type": "markdown",
   "metadata": {},
   "source": [
    "Below, I plotted the accuracy score for all test/train splits. All models still only predicted 0 (never predict genome-wide significant for the input range I'm interested in), resulting in the maximum accuracy reaching only about 60%. Using a larger testing size did improve the accuracy, but this was marginal since it was only by 5%. Additionally, increasing the test size to 50% was not ideal because this significantly reduced the training size, resulting the the model not accurately learning the correct trend.\n",
    "\n",
    "This suggested that a Logistic Regression Model may not be the best model for this purpose. The main reason was that there didn't seem to be a clear (and correct) distinction in inputs that led to a different output. For example, if the inputs 1 and 2 were more likely to be genome-wide significant (output 1), and the other inputs 3 and 4 were more likely to not to be significant (output 0), then a Logistic Regression Model would most likely work really well. However, that did not seem to be the case which suggested that we can't broadly generalize location of a SNP on a chromosome into two classes and then determine if it's significant based on the class it's in. We most likely need to structure the classes differently as opposed to just having a threshold where values above are significant and values below are not significant. For example, one possiblility is that SNPs at the beginning and ends of chromosomes (inputs 1 and 4) are significant, while SNPs near the middle of chromosomes (inputs 2 and 3) are not significant. This would require more complicated models that can represent two transitions between 0 and 1, since Logit can only represent one. Additionally, this model was based on combining all the allergy phenotypes. Logistic regression may work better if I had fit the model to each individual phenotype. However, I had decided against this because of the overlapping phenotypes. In this dataset, the largest phenotypes combined multiple phenotypes (ex. the largest phenotype was 'Eczema, allergic rhinitis' (this limitation is further discussed in the Limitations section). There were only a few individual phenotypes (no overlapping), but these had very small sample sizes (<75 SNPs). Future analyses can combine additional datasets with more data for individual phenotypes to further analyze the use of Logistic Regression."
   ]
  },
  {
   "cell_type": "code",
   "execution_count": 8,
   "metadata": {},
   "outputs": [
    {
     "data": {
      "image/png": "[encoded data removed]",
      "text/plain": [
       "<Figure size 432x288 with 1 Axes>"
      ]
     },
     "metadata": {
      "needs_background": "light"
     },
     "output_type": "display_data"
    }
   ],
   "source": [
    "plt.plot(test_sizes, scores)\n",
    "plt.xlabel(\"Test Size (%)\")\n",
    "plt.ylabel(\"Accuracy Score (%)\")\n",
    "plt.title(\"Accuracy Score Distribution for Difference Test Sizes\")\n",
    "plt.show()"
   ]
  },
  {
   "cell_type": "markdown",
   "metadata": {},
   "source": [
    "#### Linear Regression\n",
    "\n",
    "The next model I created was a Linear Regression Model to predict SNP association level based on odds ratio (OR), chromosomal location, discrete base pair location, and the discrete effect allele. The purpose for creating this model was the same as my purpose for creating the Logistic Regression Model. It aligned with my overall goal of predicting SNP association level using some, or all, of the dataset's features. Logically, it made sense to start with a model that used fewer features (one feature for the Logistic Regression), and then move onto a model that used multiple features (this was also the second analysis that I preregistered).\n",
    "\n",
    "Since I was not limited to a binary output, I expanded the number of possible SNP association levels from two to three. In addition to reaching genome-wide significance, SNPs can also reach [suggestive association](https://www.ncbi.nlm.nih.gov/pmc/articles/PMC3030483/). If SNPs don't reach the suggestive association, then they are considered not significant. Suggestive association allows researchers to identify SNPs that have the potential to be associated with a phenotype, but they are not ready to conclude that it will have a definite association yet. The general workflow for interpreting SNP p-values is to first check if it reached genome-wide significance, and if not to check if it reached suggestive association. As a result, the suggestive association threshold is larger (less significant, larger p-value) than the genome-wide association threshold.\n",
    "\n",
    "To calculate the threshold I used the same formula: threshold $= \\frac{\\text{standard threshold}}{\\text{# allergy SNPs in GWAS Catalog } * \\text{ # allergy studies}}$. This resulted in the threshold $= \\frac{5 * 10^{-5}}{830 * 38} = 1.5853 * 10^{-9}$ since $5 * 10^{-5}$ is the standard suggestive association threshold.\n",
    "\n",
    "Additionally, I had to remove some SNPs with missing data. During the data exploration phase, I had decided not to remove all SNPs with missing data because that would have significantly reduced the size of the dataset. Instead, I chose to only remove the missing SNPs when I analyzed specific columns. So if columns X and Y had missing data, but in one analysis I was only using column X, I would only remove SNPs with missing values from column X. This allowed me to maximize the dataset for each analysis. For linear regression, the only column with missing values was the 'EFFECT_ALLELE_DISCRETE' column. Missing values were represented with -10, so I subsetted the dataset to remove those rows. This reduced the dataset from 1291 SNPs to 1098 SNPs.\n",
    "\n",
    "Finally, I created a new column that stored the association level of each SNP. The value 2 corresponded to genome-wide significance, 1 corresponded to suggestive association, and 0 corresponded to not significant. Below, I plotted the distribution of SNPs reaching each association level. Ideally, there would be an even split, with roughly the same number of SNPs in each category. I observed a distribution which was not exactly ideal, but it was close. The categories were about 100 SNPs apart (250, 350, and 450). The large number of genome-wide significant SNPs is a limitation of this research field, and research in general (the previous Logit distribution is uncommon since two discrete levels are rarely used). There is an emphasis placed on \"significant\" results, so they are reported more often. This is understandable since we learn a lot from \"significant\" results, but this introduces challenges when trying to understand the reasons for the significance. On the other hand, for this model I could have considered the genome-wide SNPs significant and the others not significant. If I did this, then there would have been more non-significant SNPs. However, I wanted to adjust for different degrees of association, so I included the third group (suggestive association)."
   ]
  },
  {
   "cell_type": "code",
   "execution_count": 9,
   "metadata": {
    "scrolled": true
   },
   "outputs": [
    {
     "data": {
      "image/png": "[encoded data removed]",
      "text/plain": [
       "<Figure size 432x288 with 1 Axes>"
      ]
     },
     "metadata": {
      "needs_background": "light"
     },
     "output_type": "display_data"
    }
   ],
   "source": [
    "subset_df_lin = all_few_missing[[\"PVALUE\", \"OR\", \"CHR\", \"BP_DISCRETE\", \"EFFECT_ALLELE_DISCRETE\"]].copy()\n",
    "\n",
    "# Calculate suggestive association threshold\n",
    "threshold_suggassoc = (5e-5) / (830 * 38)\n",
    "\n",
    "# Remove missing values which was represented with -10 (other columns didn't have any) before model generation\n",
    "subset_df_lin = subset_df_lin[subset_df_lin[\"EFFECT_ALLELE_DISCRETE\"] != -10]\n",
    "\n",
    "# Create association level column\n",
    "subset_df_lin[\"PVALUE_DISCRETE_3LEVELS\"] = [2 if val < threshold_genwidesig else (1 if val < threshold_suggassoc else 0) for val in subset_df_lin[\"PVALUE\"]]\n",
    "\n",
    "# Reached genome-wide significance\n",
    "num_gen_wide = (subset_df_lin[\"PVALUE_DISCRETE_3LEVELS\"] == 2).sum()\n",
    "\n",
    "# Reached suggestive association\n",
    "num_sugg_assoc = (subset_df_lin[\"PVALUE_DISCRETE_3LEVELS\"] == 1).sum()\n",
    "\n",
    "# Not significant\n",
    "num_not_sig = (subset_df_lin[\"PVALUE_DISCRETE_3LEVELS\"] == 0).sum()\n",
    "\n",
    "plt.bar([\"Genome-Wide Significant\", \"Suggestive Association\", \"Not Signficant\"], \n",
    "        [num_gen_wide, num_sugg_assoc, num_not_sig], width = 0.4, align = \"center\")\n",
    "plt.xlabel(\"Association Level\")\n",
    "plt.ylabel(\"Number of SNPs\")\n",
    "plt.title(\"Distribution of Genome-Wide Significant SNPs\")\n",
    "plt.show()"
   ]
  },
  {
   "cell_type": "markdown",
   "metadata": {},
   "source": [
    "I created the model by first splitting the data into training and testing sets (test size = 30%). The model was terrible as it had an accuracy of 0%. The main reason was that Linear Regression Models are not well suited to predict discrete values. I chose not to keep the p-value continuous because those values were very specific and nuanced, which would lead to a lower accuracy (large negative orders of magnitude). Additionally, I am not interested in predicting the actual p-value, but whether the SNP reaches a specific threshold. This is because I don't gain a lot of helpful information from knowing that a SNPs p-value is 1e-10 compared to 2e-10. However, it is helpful to know whether a SNP has reached genome-wide significance, as this indicates that we should definitely further analyze it.\n",
    "\n",
    "Additionally, the main reason for the very low accuracy was that the model predictions got very close to 0, 1, or 2, but never exactly one of those values, thus they were considered incorrect. I displayed the regression coefficients for each feature. 3 out of 4 were very small, which suggests that those features don't strongly impact the 3-level discrete p-value, and that the first feature, odds ratio, has the largest impact. However, this might have been the case because the features had different ranges and average values, so I tried to account for this in later analyses."
   ]
  },
  {
   "cell_type": "code",
   "execution_count": 10,
   "metadata": {},
   "outputs": [
    {
     "name": "stdout",
     "output_type": "stream",
     "text": [
      "Model Regression Coefficient: -0.2823\n",
      "Model Prediction Accuracy: 0.0\n",
      "Regression Coeffecients: [-0.28226152 -0.02035349 -0.022755   -0.02369435]\n"
     ]
    }
   ],
   "source": [
    "x_train, x_test, y_train, y_test = train_test_split(subset_df_lin[[\"OR\", \"CHR\", \"BP_DISCRETE\", \n",
    "                                                                   \"EFFECT_ALLELE_DISCRETE\"]], \n",
    "                                                    subset_df_lin[\"PVALUE_DISCRETE_3LEVELS\"], \n",
    "                                                    test_size = 0.30, random_state = 10)\n",
    "\n",
    "model_lin = LinearRegression().fit(x_train, y_train)\n",
    "print(\"Model Regression Coefficient:\", round(model_lin.coef_[0], 4))\n",
    "\n",
    "predictions = model_lin.predict(x_test)\n",
    "print(\"Model Prediction Accuracy:\", round(sum(predictions == y_test) * 100 / len(predictions), 5))\n",
    "\n",
    "# Format: OR, CHR, BP_DISCRETE, EFFECT_ALLELE_DISCRETE\n",
    "print(\"Regression Coeffecients:\", model_lin.coef_)"
   ]
  },
  {
   "cell_type": "markdown",
   "metadata": {},
   "source": [
    "I updated the model to predict the continous p-value and this performed the same. In this case, the regression coeffecients were all extremely small. This was because the range of the p-values was very small, as it was less than 1e-5. On the other hand, the ranges of the features were about 3-20. I definitely needed to account for the different ranges in the datasets columns. Furthermore, the p-values were very specific, so it was extremely difficult to predict them exactly. This was my main reason for converting the continuous values to discrete values."
   ]
  },
  {
   "cell_type": "code",
   "execution_count": 11,
   "metadata": {},
   "outputs": [
    {
     "name": "stdout",
     "output_type": "stream",
     "text": [
      "Model Regression Coefficient: 0.0\n",
      "Model Prediction Accuracy: 0.0\n",
      "Regression Coeffecients: [ 6.45080258e-07  2.79983321e-09 -2.79786951e-08 -5.56393927e-10]\n"
     ]
    }
   ],
   "source": [
    "# Adapt model to predict the continuous p-value\n",
    "x_train, x_test, y_train, y_test = train_test_split(subset_df_lin[[\"OR\", \"CHR\", \"BP_DISCRETE\", \n",
    "                                                                   \"EFFECT_ALLELE_DISCRETE\"]], \n",
    "                                                    subset_df_lin[\"PVALUE\"], \n",
    "                                                    test_size = 0.30, random_state = 10)\n",
    "\n",
    "model_lin_cont = LinearRegression().fit(x_train, y_train)\n",
    "print(\"Model Regression Coefficient:\", round(model_lin_cont.coef_[0], 4))\n",
    "\n",
    "predictions = model_lin_cont.predict(x_test)\n",
    "print(\"Model Prediction Accuracy:\", round(sum(predictions == y_test) * 100 / len(predictions), 4))\n",
    "\n",
    "# Format: OR, CHR, BP_DISCRETE, EFFECT_ALLELE_DISCRETE\n",
    "print(\"Regression Coeffecients:\", model_lin_cont.coef_)"
   ]
  },
  {
   "cell_type": "markdown",
   "metadata": {},
   "source": [
    "However, I still wanted to identify if a linear model could be used in some capacity. One alternative I experimented with was creating a hybrid model by using a Linear Regression model to predict a continuous p-value and then thresholding the result into one of the three association levels. To evaluate this hybrid model, I converted the predictions to 0, 1, or 2 based on the suggestive association and genome-wide significance thresholds. I also converted the \"real\" values for those predictions (y_test) to 0, 1, or 2 based on the same thresholds. The accuracy did improve to 37%, so a linear model is not useless for this dataset, but it definitely is not the best. This hybrid model performed about the same as a model that randomly chooses between three possible outcomes. This was not suitable as I didn't want to make biological conclusions essentially by a random decision."
   ]
  },
  {
   "cell_type": "code",
   "execution_count": 12,
   "metadata": {},
   "outputs": [
    {
     "name": "stdout",
     "output_type": "stream",
     "text": [
      "Model Prediction Accuracy: 0.3424242424242424\n"
     ]
    }
   ],
   "source": [
    "# Hybrid Model\n",
    "\n",
    "# Convert the predictions from being continuous to discrete\n",
    "pred = [2 if val < threshold_genwidesig else (1 if val < threshold_suggassoc else 0) for val in predictions]\n",
    "\n",
    "# Convert the actual values from being continuous to discrete\n",
    "y_test_discrete = [2 if val < threshold_genwidesig else (1 if val < threshold_suggassoc else 0) for val in y_test]\n",
    "\n",
    "print(\"Model Prediction Accuracy:\", accuracy_score(pred, y_test_discrete))"
   ]
  },
  {
   "cell_type": "markdown",
   "metadata": {},
   "source": [
    "#### Additional Models\n",
    "\n",
    "With the Logistic Regression and Linear Regression Models, I achieved my goal of creating a model to predict SNP association level using the dataset's features. However, the maximum accuracy was 58%, which is better than random chance but still not ideal. I shifted my focus to different models, with the goal of improving prediction accuracy.\n",
    "\n",
    "A more complicated model might better predict the 3-level discrete p-value. The 2-level logistic model worked ok, but its accuracy was only 58%, and ideally I wanted to be able to distinguish between genome-wide significant, suggestive association, and not significant, as opposed to just genome-wide significant and not genome-wide significant. This is because in many GWAS, there are not a lot of genome-wide significant SNPs. If I created a model that could only differentiate between SNPs that reached genome-wide significance and SNPs that didn't, then I would classify many SNPs as \"not significant\" when they may have had some degree of association (suggestive association), and may have been worth further analyzing. In other words, a model that only predicts a 2-level discrete p-value can result in more false negatives, and a 3-level classification model can help reduce this.\n",
    "\n",
    "I looked into the following models: Naive Bayes, Support Vector Machine (SVM), Decision Tree, Random Forest, and k-Nearest Neighbors (kNN). I ruled out Naive Bayes since it assumes the features (columns) are independent, which was not valid since some were correlated (the BP_DISCRETE, CHR, and PVALUE columns were correlated). I chose not to use SVMs because of the dimensional size of the feature space. SVMs aim to identify a geometric boundary to separate different groups of features. If the feature space is 2D (only two features), then the SVM can utilize something as simple as a line to separate the features (ex. all features above the line are classified as X and all features below the line are classified as Y). However, in a larger dimension feature space, the geometric boundary can become much more complicated, such as a Gaussian, and this often leads to overfitting (the model will become too specific based on the training set and not be able to perform well on data it hasn't seen before). \n",
    "\n",
    "A Decision Tree model uses a tree-like structure to evaluate different conditions. A simple Decision Tree is an if-statement. For example, if the value is greater than 5, classify it as X, but if it's less than 5, classify it as Y. Decision Trees can have multiple branches in the complete tree to evaluate several conditions. I thought this model would work well because the thresholds in each of the features that correspond to different association levels can be represented by different conditions (ex. if the odds ratio is greater than 3, classify the SNP as not significant). However, Random Forest models combine multiple Decision Trees, where each tree incorporates uncorrelated data. I believed this model work work better than a single Decision Tree because there are some features that are uncorrelated within this dataset, so using this more complicated model would lead to an improved accuracy (the EFFECT_ALLELE_DISCRETE column was uncorrelated).\n",
    "\n",
    "The k-Nearest Neighbors algorithm classifies a data point based on the k data points closest to it. For example, in a 3-Nearest Neighbors model, the model will classify an unknown datapoint to be the most prevalent outcome of its 3 nearest points. This simple algorithm doesn't have any restrictions, and works better for lower dimensional parameter spaces. However, it does not have the drawbacks that SVMs do in larger spaces, so I decided to experiment with it and evaluate its performance.\n",
    "\n",
    "There were a few other models that I evaluated, and I briefly discuss those later."
   ]
  },
  {
   "cell_type": "markdown",
   "metadata": {},
   "source": [
    "##### Random Forest Model"
   ]
  },
  {
   "cell_type": "markdown",
   "metadata": {},
   "source": [
    "I started by creating a Random Forest Model, and split the dataset into testing and training sets (30% test size). I fit the data to the model and calculated its accuracy score."
   ]
  },
  {
   "cell_type": "code",
   "execution_count": 13,
   "metadata": {},
   "outputs": [
    {
     "name": "stdout",
     "output_type": "stream",
     "text": [
      "Random Forest (no standardization) Score: 0.7878787878787878\n"
     ]
    }
   ],
   "source": [
    "x_train, x_test, y_train, y_test = train_test_split(subset_df_lin[[\"OR\", \"CHR\", \"BP_DISCRETE\", \n",
    "                                                                   \"EFFECT_ALLELE_DISCRETE\"]], \n",
    "                                                    subset_df_lin[\"PVALUE_DISCRETE_3LEVELS\"], \n",
    "                                                    test_size = 0.30, random_state = 10)\n",
    "\n",
    "model_rf = RandomForestClassifier(random_state = 10)\n",
    "model_rf.fit(x_train, y_train)\n",
    "no_standard_score = model_rf.score(x_test, y_test)\n",
    "\n",
    "print(\"Random Forest (no standardization) Score:\", no_standard_score)"
   ]
  },
  {
   "cell_type": "markdown",
   "metadata": {},
   "source": [
    "##### Data Standardization"
   ]
  },
  {
   "cell_type": "markdown",
   "metadata": {},
   "source": [
    "The model performed well, achieving an accuracy of 80%. This model performed much better than the previous Logistic Regression and Linear Regression models, but one reason could be that some of the previous models only had the 2-level p-value column instead of the 3-level column. Another reason could simply be that a Random Forest model is more complex than a Logistic/Linear Regression model, so it can use complex sample spaces (4D) to make better predictions.\n",
    "\n",
    "Next, I wanted to try to improve this accuracy to get it closer to 90%. Data standardization can sometimes be helpful when creating models. This process normalizes the data to better fit a Gaussian distribution. One common scenario when it is helpful is if the dataset's columns have different scales. This is the case for my dataset, since the discrete columns (BP/EFFECT_ALLELE) range from 1 to 4, the chromosome column ranges from 1 to 23, the odds ratio column ranges from -5 to 5, and the p-value column ranges from 0 to 2. These ranges don't differ significantly, but I wanted to investigate if standardization can improve the models performance.\n",
    "\n",
    "I standardized the training and the testing features, and the recreated the model. Below, I displayed the accuracy scores for the standardized and non-standardized models. Standardization resulted in a significant decrease in model performance (decreased by about 50%). One possible reason could be that by standardizing the data, the different features became very similar, which made it harder for the model to identify the differences that led to different association levels. Additionally, Random Forest Models don't require for the input data to resemble a Gaussian distribution, so clearly this standardization was not needed to generate an accurate model. "
   ]
  },
  {
   "cell_type": "code",
   "execution_count": 14,
   "metadata": {},
   "outputs": [
    {
     "name": "stdout",
     "output_type": "stream",
     "text": [
      "Random Forest (with standardization) Score: 0.41818181818181815\n"
     ]
    }
   ],
   "source": [
    "# Standardize data\n",
    "scaler = StandardScaler()\n",
    "scaler.fit(x_train)\n",
    "\n",
    "x_train = scaler.transform(x_train)\n",
    "x_test = scaler.transform(x_test)\n",
    "\n",
    "# Evaluate the model with standardized data\n",
    "model_rf_st = RandomForestClassifier(random_state = 10)\n",
    "model_rf_st.fit(x_train, y_train)\n",
    "with_standard_score = model_rf.score(x_test, y_test)\n",
    "\n",
    "print(\"Random Forest (with standardization) Score:\", with_standard_score)"
   ]
  },
  {
   "cell_type": "code",
   "execution_count": 15,
   "metadata": {},
   "outputs": [
    {
     "data": {
      "image/png": "[encoded data removed]",
      "text/plain": [
       "<Figure size 432x288 with 1 Axes>"
      ]
     },
     "metadata": {
      "needs_background": "light"
     },
     "output_type": "display_data"
    }
   ],
   "source": [
    "plt.bar([\"No Standardization\", \"With Standardization\"], \n",
    "        [no_standard_score, with_standard_score], align = \"center\")\n",
    "plt.xlabel(\"Random Forest Model Type\")\n",
    "plt.ylabel(\"Accuracy Score\")\n",
    "plt.title(\"Accuracy of Different Random Forest Models\")\n",
    "plt.show()"
   ]
  },
  {
   "cell_type": "markdown",
   "metadata": {},
   "source": [
    "##### Principal Component Analysis (PCA)"
   ]
  },
  {
   "cell_type": "markdown",
   "metadata": {},
   "source": [
    "Before trying to continue to improve the accuracy of the model, I wanted to try to simplify the model. Even though there were only four features in this model, I wanted to identify if all of these features were needed to maintain a relatively high accuracy. I performed Principal Component Analysis (PCA) to try to accomplish this. PCA calculates principal components that account for a large amount of variance in the dataset. It projects the original parameter space to a new sample space, by mapping the original sets of data points to new ones based on their standard deviation. Due to this calculation, all points need to have the same standard deviation. Overall, PCA analysis can reduce the number of features in the dataset if some features aren't needed, possibly due to high correlation.\n",
    "\n",
    "I started by trying to account for 95% of variance in the dataset. This required 4 PCA components and didn't impact the accuracy of the model."
   ]
  },
  {
   "cell_type": "code",
   "execution_count": 16,
   "metadata": {
    "scrolled": true
   },
   "outputs": [
    {
     "name": "stdout",
     "output_type": "stream",
     "text": [
      "Number of Components: 4\n",
      "Score: 0.7878787878787878\n"
     ]
    }
   ],
   "source": [
    "# Perform standardization so that all features have the same standard deviation\n",
    "scaler = StandardScaler()\n",
    "scaler.fit(x_train)\n",
    "\n",
    "x_train = scaler.transform(x_train)\n",
    "x_test = scaler.transform(x_test)\n",
    "\n",
    "pca95 = PCA(0.95) # account for 95% of variance in the dataset\n",
    "pca95.fit(x_train)\n",
    "\n",
    "print(\"Number of Components:\", pca95.n_components_)\n",
    "\n",
    "# Apply PCA\n",
    "x_train = pca95.transform(x_train)\n",
    "x_test = pca95.transform(x_test)\n",
    "\n",
    "# Evaluate model\n",
    "model_rf_pca = RandomForestClassifier(random_state = 10)\n",
    "model_rf_pca.fit(x_train, y_train)\n",
    "\n",
    "print(\"Score:\", model_rf_pca.score(x_test, y_test))"
   ]
  },
  {
   "cell_type": "markdown",
   "metadata": {},
   "source": [
    "I created a function to perform PCA given the amount of variance to account for, and then used this to perform PCA several times to account for 50-95% of variance within the dataset. My goal was to identify the smallest number of features I could use to still account for a decent amount of variance in the dataset."
   ]
  },
  {
   "cell_type": "code",
   "execution_count": 17,
   "metadata": {},
   "outputs": [],
   "source": [
    "def performPCA(var):\n",
    "    pca_var = PCA(var)\n",
    "    pca_var.fit(x_train)\n",
    "    \n",
    "    train = pca_var.transform(x_train)\n",
    "    test = pca_var.transform(x_test)\n",
    "    \n",
    "    model_var = RandomForestClassifier(random_state = 10)\n",
    "    model_var.fit(train, y_train)\n",
    "    \n",
    "    return [pca_var.n_components_, model_var.score(test, y_test)]"
   ]
  },
  {
   "cell_type": "markdown",
   "metadata": {},
   "source": [
    "Based on the PCA results, it doesn't seem like reducing the number of features has a major effect on the accuracy of the model. I have plotted the accuracy scores and number of principal components for models that accounted for differing amounts of variance below. Interestingly, only accounting for 50% of variance still achieved an accuracy better than the Logistic/Linear Regression models. Additionally, the score didn't change much when accounting for all these different amounts of variance, as it stayed close to 80%. This indicates that if there are strict technological contraits that limit computational power, we can use a model that accounts for less variance and it will still perform fairly accurately. Similarly, to account for 50-75% of the variance, we don't need all 4 features (only 2-3 features needed), which is depicted by the second graph. The major reason is due to the correlation among some of the features. As discussed previously, the BP_DISCRETE, CHR, and PVALUE columns were correlated, so it is not necessary to use those three entire columns for the model. This smaller feature space can allow the model to train and be evaluated faster. Additionally, a smaller dimensional space can allow for models such as SVMs to be used during future analyses.\n",
    "\n",
    "_I chose not to use the PCA generated models going forward because I did not have computational power limitations, and did not feel the need to also focus on SVMs since I already analyze several other models (I only briefly touch on SVMs later)._"
   ]
  },
  {
   "cell_type": "code",
   "execution_count": 18,
   "metadata": {
    "scrolled": false
   },
   "outputs": [
    {
     "data": {
      "image/png": "[encoded data removed]",
      "text/plain": [
       "<Figure size 432x288 with 1 Axes>"
      ]
     },
     "metadata": {
      "needs_background": "light"
     },
     "output_type": "display_data"
    },
    {
     "data": {
      "image/png": "[encoded data removed]",
      "text/plain": [
       "<Figure size 432x288 with 1 Axes>"
      ]
     },
     "metadata": {
      "needs_background": "light"
     },
     "output_type": "display_data"
    }
   ],
   "source": [
    "labels = []\n",
    "num_comp = []\n",
    "scores = []\n",
    "\n",
    "# Aggregate PCA results\n",
    "for i in range(50, 95, 5):\n",
    "    num_c, score = performPCA(i/100)\n",
    "    \n",
    "    labels.append(i)\n",
    "    num_comp.append(num_c)\n",
    "    scores.append(score)\n",
    "\n",
    "# Plot results\n",
    "labels = [\"Var=\" + str(i) + \"%\" for i in labels]\n",
    "\n",
    "fig = plt.figure()\n",
    "ax = fig.add_axes([0, 0, 1, 1])\n",
    "ax.bar(labels, scores)\n",
    "plt.title(\"Score Distribution by PCA Variance\")\n",
    "plt.xlabel(\"PCA Variance\")\n",
    "plt.ylabel(\"Model Accuracy Score\")\n",
    "plt.tick_params(axis = \"x\", rotation = 90, labelsize = 15)\n",
    "plt.show()\n",
    "\n",
    "fig = plt.figure()\n",
    "ax = fig.add_axes([0, 0, 1, 1])\n",
    "ax.bar(labels, num_comp)\n",
    "plt.title(\"Number of Components Distribution by PCA Variance\")\n",
    "plt.xlabel(\"PCA Variance\")\n",
    "plt.ylabel(\"Number of Components\")\n",
    "plt.tick_params(axis = \"x\", rotation = 90, labelsize = 15)\n",
    "plt.show()"
   ]
  },
  {
   "cell_type": "markdown",
   "metadata": {},
   "source": [
    "Another evaluation tool I used was k-Fold Cross Validation. This split the dataset into k different groups, performed a test/train split on that group, and then evaluated the result. This can provide more insights into the model since it simulates having a bunch of smaller datasets, so we can identify if the model is overfitting or underfitting, or if the accuracy determined from the model that incorporated all the data was just due to chance.\n",
    "\n",
    "I have displayed the scores for each fold below. The model had an average accuracy of 90.58% across all folds. I simulated this several times, as well as experimented with increasing the number of folds, and the average accuracy didn't change significantly. One possible reason for the high accuracy is that the smaller groups may not have had all discrete levels, which allowed the model to be much simpler and more accurate. Specifically, one group might only have the output 1, and the model will essentially be a linear model that always predicts 1, leading to an accuracy of 100%. Similarly, one model may have obtained a dataset that doesn't fit the average distribution (may have included some outliers), which could have resulted in a lower accuracy (68%). Overall, this evaluation metric suggests that the model performs better than average, and well for the majority of test train splits. However, I still wanted to create a model that consistently had an accuracy above 90%."
   ]
  },
  {
   "cell_type": "code",
   "execution_count": 19,
   "metadata": {},
   "outputs": [
    {
     "data": {
      "image/png": "[encoded data removed]",
      "text/plain": [
       "<Figure size 432x288 with 1 Axes>"
      ]
     },
     "metadata": {
      "needs_background": "light"
     },
     "output_type": "display_data"
    },
    {
     "name": "stdout",
     "output_type": "stream",
     "text": [
      "Average Score: 0.9058\n"
     ]
    }
   ],
   "source": [
    "features = subset_df_lin[[\"OR\", \"CHR\", \"BP_DISCRETE\", \"EFFECT_ALLELE_DISCRETE\"]]\n",
    "predict = subset_df_lin[\"PVALUE_DISCRETE_3LEVELS\"]\n",
    "\n",
    "scores = cross_val_score(model_rf, features, predict, cv = 10)\n",
    "\n",
    "plt.bar(range(1, 11), scores, align = \"center\")\n",
    "plt.xlabel(\"Fold\")\n",
    "plt.ylabel(\"Accuracy Score\")\n",
    "plt.ylim(0.60, 1)\n",
    "plt.title(\"k-Fold Cross Validation Accuracy Score Distribution per Fold\")\n",
    "plt.show()\n",
    "\n",
    "print(\"Average Score:\", round(sum(scores)/len(scores), 4))"
   ]
  },
  {
   "cell_type": "markdown",
   "metadata": {},
   "source": [
    "##### k-Nearest Neighbors (kNN) Model"
   ]
  },
  {
   "cell_type": "markdown",
   "metadata": {},
   "source": [
    "Next, I evaluated the performance of using a kNN model instead of a Random Forest model, since this was the second additional model I decided to use (reasoning was explained before). I started by splitting the data into training and testing sets using the same procedure as discussed previously. Then I fit the model and evaluated its accuracy. The main parameter for a kNN model is the number of neighbors (n) the model will use. This parameter can be any positive value. Choosing n=1 means that the model will classify a data point as the same outcome of the nearest data point that it was trained with. Generally, larger values of n are chosen to account for outliers. For example, if the test data point is adjacent to an outlier, the n=1 model will incorrectly classify it as the outlier's outcome. As n increases the training time scales exponentially. However, training time was not a factor in my analysis, but may be a factor to consider for future work that incorporates much larger datasets. I decided to start with 3 neighbors and then alter it based on the results."
   ]
  },
  {
   "cell_type": "code",
   "execution_count": 20,
   "metadata": {},
   "outputs": [
    {
     "name": "stdout",
     "output_type": "stream",
     "text": [
      "kNN (n=3) Score: 0.5666666666666667\n"
     ]
    }
   ],
   "source": [
    "x_train, x_test, y_train, y_test = train_test_split(subset_df_lin[[\"OR\", \"CHR\", \"BP_DISCRETE\", \n",
    "                                                                   \"EFFECT_ALLELE_DISCRETE\"]], \n",
    "                                                    subset_df_lin[\"PVALUE_DISCRETE_3LEVELS\"], \n",
    "                                                    test_size = 0.30, random_state = 10)\n",
    "\n",
    "model_kNN = KNeighborsClassifier(n_neighbors = 3)\n",
    "model_kNN.fit(x_train, y_train)\n",
    "model_kNN_score = model_kNN.score(x_test, y_test)\n",
    "\n",
    "print(\"kNN (n=3) Score:\", model_kNN_score)"
   ]
  },
  {
   "cell_type": "markdown",
   "metadata": {},
   "source": [
    "The accuracy of the kNN model with n=3 was worse than the Random Forest model. I experimented with varying the number of neighbors between 1 and 20, and displayed the accuracy scores for each of them. Suprisingly, the n=1 model performed the best with an accuracy score of 77.88%. This suggests that this dataset may not have several outliers. In the context of the dataset, this means that data points in different association levels (not significant, suggestive association, genome-wide significance) tend to be grouped together spatially. Even though the accuracy score was 78%, I still did not reach my goal of 90%, and it was not an improvement to the Random Forest model, which had an accuracy of 79%."
   ]
  },
  {
   "cell_type": "code",
   "execution_count": 21,
   "metadata": {},
   "outputs": [],
   "source": [
    "neighbors = range(1, 21)\n",
    "scores = []\n",
    "\n",
    "# Evaluate kNN on several possible numbers of neighbors\n",
    "for i in range(1, 21):\n",
    "    model_kNN_i = KNeighborsClassifier(n_neighbors = i)\n",
    "    model_kNN_i.fit(x_train, y_train)\n",
    "    model_kNN_i_score = model_kNN_i.score(x_test, y_test)\n",
    "\n",
    "    scores.append(model_kNN_i_score)"
   ]
  },
  {
   "cell_type": "markdown",
   "metadata": {},
   "source": [
    "I have plotted the accuracy score for each model. As discussed above, the n=1 model performed the best. All of the other models had an accuracy between 45% and 60%. This indicates the using larger values of n, overgeneralizes the model's conclusion, leading to a lower accuracy. One reason for this is if there are small clusters within larger clusters. For example, there could be a cluster of 5 data points that are not significant, and then a cluster of 20 data points surrounding them that are genome-wide significant (if the sample space is concentric circles). For kNN models with n greater than 10, a data point that is not significant and is near the not significant cluster will be wrongly classifier as genome-wide significant (majority of points will always be genome-wide significant). This is typically why kNN algorithms use values of n that are smaller than 10 to prevent over-generalization."
   ]
  },
  {
   "cell_type": "code",
   "execution_count": 22,
   "metadata": {
    "scrolled": true
   },
   "outputs": [
    {
     "data": {
      "image/png": "[encoded data removed]",
      "text/plain": [
       "<Figure size 432x288 with 1 Axes>"
      ]
     },
     "metadata": {
      "needs_background": "light"
     },
     "output_type": "display_data"
    },
    {
     "name": "stdout",
     "output_type": "stream",
     "text": [
      "Max Accuracy Score: 0.7788\n"
     ]
    }
   ],
   "source": [
    "plt.plot(neighbors, scores)\n",
    "plt.xlabel(\"Number of Neighbors\")\n",
    "plt.ylabel(\"Accuracy Score\")\n",
    "plt.title(\"Accuracy Score Distribution for kNN Models\")\n",
    "plt.xticks(neighbors, neighbors)\n",
    "plt.show()\n",
    "print(\"Max Accuracy Score:\", round(max(scores), 4))"
   ]
  },
  {
   "cell_type": "markdown",
   "metadata": {},
   "source": [
    "##### Extra Analyses"
   ]
  },
  {
   "cell_type": "markdown",
   "metadata": {},
   "source": [
    "I performed some more analyses to try to achieve an accuracy of 90%, but unfortunately none of them achieved this threshold. I provide a brief explanation for each of them below, but included the code in the Appendix.\n",
    "\n",
    "__Boosting:__ Boosting involves training multiple models to reduce bias and improve accuracy. There are several models that are trained sequentially, and each subsequent model focuses on the poorly trained data points from the previous model. I implemented two common boosting algorithms: Gradient Boosting and AdaBoost. They had accuracies of 65% and 55%, respectively.\n",
    "\n",
    "__Stacking:__ Stacking involves combining multiple models, usually different types, to improve accuracy. I implemented it with two models, so the first model was trained on the first half of the dataset, and the second model was trained on the second half of the data. Finally, the two models are \"stacked\", and a Logistic Regression model is used to evaluate the outputs of the two models to decide on the final classification. I stacked kNN and Random Forest models two ways (kNN then Random Forest and Random Forest then kNN), but the maximum stacked accuracy was 56%).\n",
    "\n",
    "__Support Vector Machine:__ Even though SVMs aren't great in high-dimensional parameter spaces, I still evaluated its performace. As expected, its accuracy was 42%.\n",
    "\n",
    "__Neural Network (Multi-Layer Perceptron):__ Lastly, I created a Multi-Layer Perceptron Neural Network with five layers and 100 neurons per layer. Neural Networks attempt to simulate the human brain and how we learn, and the weights of the model (analgous to regression weights) are adjusted after each layer. Each layer attempts to improve the accuracy of the model. Unfortunately, the accuracy was only 50%."
   ]
  },
  {
   "cell_type": "markdown",
   "metadata": {},
   "source": [
    "#### Model Generation for Single Phenotypes"
   ]
  },
  {
   "cell_type": "markdown",
   "metadata": {},
   "source": [
    "The previous models used the entire dataset as they combined all the phenotypes. I made that decision because of the overlapping phenotypes. Below, I displayed the comparative sizes of the top 10 (out of 18) phenotypes. Allergic rhinitics and eczema are two examples of traits that are included in multiple phenotypes. This is a limitation of the dataset, and creating individual models for these traits might not be very accurate since they may have to account for different trends for the different traits in the same phenotype. For example, the model for the second largest phenotype (seasonal allergic rhinitis, asthma) will need to account for the trend for seasonal allergic rhinitis and the trend for asthma. This could result in the model averaging the two trends into one, and if the trends are significantly different, this would lead to a low accuracy score.\n",
    "\n",
    "I created the same models that I had created for the entire dataset, but this time subsetted the dataset into three smaller datasets, one for each of the top three phenotypes (seasonal allergic rhinitis, seasonal allergic rhinitis/asthma, and eczema/allergic rhinitis). My reasoning for creating the same models was so that I could compare the respective models, as I didn't want to compare the accuracies of different types of models, since that would not be very informative. I only did this for the top three phenotypes because of the limited sample sizes for several of the remaining phenotypes. Many of the phenotypes had sample sizes less than 100, so the model would not have a lot of training data and would produce spurious results. After creating the previous models, I didn't feel very hopeful about these models, but still created them since I mentioned that I would in the last paragraph of my preregistration statement.\n",
    "\n",
    "Since the model generation was similar to the previous models (main difference being the subsetted datasets), I included the code in the Appendix section, and just summarized the results below. I ended up creating functions for generating each model, since the only difference was the phenotype used to subset the entire dataset."
   ]
  },
  {
   "cell_type": "code",
   "execution_count": 23,
   "metadata": {},
   "outputs": [
    {
     "data": {
      "image/png": "[encoded data removed]",
      "text/plain": [
       "<Figure size 432x288 with 1 Axes>"
      ]
     },
     "metadata": {},
     "output_type": "display_data"
    }
   ],
   "source": [
    "final_dataset = pd.read_csv(\"final_dataset.csv\")\n",
    "all_few_missing = final_dataset[(final_dataset[\"BP\"] != -10) & (final_dataset[\"OR\"] != -10)]\n",
    "\n",
    "# Pie chart excluding the lowest 8 traits to make it legible\n",
    "plt.pie(all_few_missing[\"TRAIT\"].value_counts()[:-8], labels = all_few_missing[\"TRAIT\"].unique()[:-8])\n",
    "plt.show()"
   ]
  },
  {
   "cell_type": "markdown",
   "metadata": {},
   "source": [
    "I plotted the accuracy scores for all of the models below. Each group of bars represents a type of model, and the individual bars in each group represent the dataset used (either the entire dataset or one specific phenotype). One group only has one bar, and this is because 3/4 models in that group had accuracy scores of 0.\n",
    "\n",
    "As mentioned above, I created models for the three phenotypes with the largest sample sizes, and compared the results with the models I had created for the entire dataset. The top three phenotypes were seasonal allergic rhinitis, seasonal allergic rhinitis/asthma, and eczema/allergic rhinitis. I didn't expect great results because of the models I had already generated, and because these phenotypes have overlapping traits, which is a limitation of how the phenotypes are defined in the GWAS Catalog. I did find that the majority of phenotype-specific models performed better than the respective model for the entire dataset, but I believe these were just spurious results, largely due to the small sample sizes of the individual phenotypes. The small sample sizes resulted in even smaller training and testing sets, which significantly reduced the complexity of the model, resulting in very high accuracies. 50% of the models doubled in accuracy when going from the entire dataset to an individual phenotype, and 83% of the models had higher accuracies for all of the phenotype-specific models than the entire dataset model.\n",
    "\n",
    "Ideally, there will be a model for individual phenotypes, since there are different biological stimuli that result in allergic reactions for different phenotypes (ex. food allergy response is different from an environmental allergy response). However, I was unable to do that with this dataset because of the limited sample sizes for individual phenotypes."
   ]
  },
  {
   "cell_type": "code",
   "execution_count": 24,
   "metadata": {},
   "outputs": [
    {
     "data": {
      "image/png": "[encoded data removed]",
      "text/plain": [
       "<Figure size 1080x360 with 1 Axes>"
      ]
     },
     "metadata": {
      "needs_background": "light"
     },
     "output_type": "display_data"
    }
   ],
   "source": [
    "labels = [\"Logit (2 levels)\", \"Linear (3 levels)\", \"Linear (hybrid)\", \"Random Forest (no st.)\",\n",
    "         \"Random Forest (with st.)\", \"kNN (n = 1)\"]\n",
    "\n",
    "# Model accuracies (generated at the end of the appendix)\n",
    "fulldataset = [57.99, 0, 36.82, 78.79, 41.82, 77.88]\n",
    "seaallrhin = [88.2353, 100, 100, 100, 100, 100]\n",
    "seaallrhin_asthma = [52.6316, 0, 100, 100, 94.7368, 100]\n",
    "ecz_allrhin = [91.3978, 0, 100, 100, 55.9140, 95.6989]\n",
    "bar_width = 0.20\n",
    "\n",
    "plt.figure(figsize = (15, 5))\n",
    "plt.bar(np.arange(6) - bar_width * 1.5, np.array(fulldataset), bar_width, label = \"Entire Dataset\")\n",
    "plt.bar(np.arange(6) - bar_width * 0.5, np.array(seaallrhin), bar_width, label = \"Seasonal Allergic Rhinitis\")\n",
    "plt.bar(np.arange(6) + bar_width * 0.5, np.array(seaallrhin_asthma), bar_width, label = \"Seasonal Allergic Rhinitis, Asthma\")\n",
    "plt.bar(np.arange(6) + bar_width * 1.5, np.array(ecz_allrhin), bar_width, label = \"Eczema, Allergic Rhinitis\")\n",
    "plt.xticks(np.arange(6), labels)\n",
    "plt.xlabel(\"Classification Model\")\n",
    "plt.ylabel(\"Accuracy Score\")\n",
    "plt.title(\"Accuracy Scores for Models of Phenotypes with the Largest Sample Sizes Compared with Models of the Entire Dataset\")\n",
    "plt.ylim(0, 140)\n",
    "plt.legend(loc = \"upper right\")\n",
    "plt.show()"
   ]
  },
  {
   "cell_type": "markdown",
   "metadata": {},
   "source": [
    "### Interpretations and Conclusions"
   ]
  },
  {
   "cell_type": "markdown",
   "metadata": {},
   "source": [
    "My goal was to create a model to predict the degree of a SNP's association. I aimed to use a subset of the features in the dataset, and posed research questions about the potential impacts of specific features. The degree of a SNP's association is indicated by its p-value, as p-values within certain ranges correspond to different degrees of association. The three degrees that I focused on were not significant, suggestive association, and genome-wide significance. I determined the exact values of these thresholds using the standard formula used in the field along with the relevant information (# SNPs/allergy studies) in the GWAS study. I created models that classified SNPs into either one of the three categories or just one of two (genome-wide significant/not significant). These models ranged from simple Linear Regression Models to complex Neural Networks. I explored the impact of data standardization and PCA on model accuracy. I observed a wide range of results, with one model having an accuracy of 0% and others having accuracies close to 80%.\n",
    "\n",
    "One factor that I considered when evaluating the results was the impact of the data collection process and the preprocessing steps I performed. I don't believe the way that I collected the data had any negative impacts. I used web scraping to obtain as much allergy data from the GWAS Catalog as possible, which was beneficial since a large dataset was ideal. The only limitation during this process was the actual data stored in the Catalog, since it didn't have a lot of allergy data, especially compared to other diseases. During preprocessing, the only step that might have had an impact was when I removed some rows with missing entries. Intentionally, I only removed the rows which were almost missing all values in the row, because those rows were essentially unusable. For the rows that had some missing entries, I held off on removing them because I didn't know which features (columns) I'd end up analyzing, and if the rows didn't have missing values in the specific columns I was using, then there would be no need to remove them. Again, I don't believe this had a negative impact, since it allowed me to maximize the size of the dataset for each analysis. Similar to the data collection process, this was more of a limitation of how the GWAS Catalog collected its data, and possibly the studies that reported the findings, which resulted in some missing values."
   ]
  },
  {
   "cell_type": "markdown",
   "metadata": {},
   "source": [
    "#### <center>Summary Table (Entire Dataset)</center>\n",
    "| Model | Accuracy Score |\n",
    "| :-: | :-: |\n",
    "| Logistic Regression | 57.99% |\n",
    "| Linear Regression | 0% |\n",
    "| Linear Regression - Hybrid | 36.82% |\n",
    "| Random Forest | 78.79% |\n",
    "| Random Forest - Standardized | 41.82% |\n",
    "| Random Forest - with PCA (95%) | 78.79% |\n",
    "| k-Nearest Neighbors (n = 1) | 77.88% |\n",
    "| Gradient Boosting | 65% |\n",
    "| AdaBoost | 55% |\n",
    "| Stacked (Random Forest and kNN) | 56% |\n",
    "| Support Vector Machine | 42% |\n",
    "| Multi-Layer Perceptron Neural Network | 50% |"
   ]
  },
  {
   "cell_type": "markdown",
   "metadata": {},
   "source": [
    "I displayed all of the models' accuracy scores in the table above. The score of each model indicates how well the model performed on the randomly generated test dataset. Each model was trained on some data (train set), and then its performance was evaluated using the test set. The model had never seen the data in the test set before. One important fact that I'd like to emphasize is that the percentage is the accuracy on _the specific test set_. This does not mean that the model will have the same accuracy when evaluated with other datasets. Ideally, the dataset that I trained the model with is representative such that the model performs the same (or better) on other datasets, but that is not always the case. Specifically, there were limitations with this dataset that caused this dataset not to be fully representative of allergic disease, and I discuss these in the next section. As a result, I can't conclude that my Random Forest model, for instance, will _always_ be 78.79% accurate. However, I can state that my Random Forest model was 78.79% accurate for the _test set used_ and that I expect it to perform _about the same_ on other datasets.\n",
    "\n",
    "I did not expect to create a model that was 100% accurate. While I hoped to create models with high accuracies (above 90%), I was more interested in identifying if it is feasible to create models for this purpose and if the models can aid in the identification of significant SNPs. In this regard, establishing a viable model generation procedure was much more important than creating a model with a high accuracy. If I created a model that performed very well, then it would be great, but I could not apply it to lots of other datasets (due to limitations discussed in the next section). However, through experimenting with creating different models, I learned about models that work and don't work on this allergy data. For instance, predicting continuous p-values, as opposed to one of two or three discrete levels, doesn't work because the p-values are very specific (some on orders of 1e-8) so models will not be able to accurately predict that exact number often (indicated by 0% accuracy of the Linear Regression Model). Additionally, for this type of data, more complicated models do not always increase performance, which is also common in other fields. For example, the Multi-Layer Neural Network did not perform better than the much simpler Logistic Regression model. This suggests that the general allergy parameter space is not extremely complex such that it requires extensive use of complicated models like Neural Networks or other ensemble methods like boosting or stacking. There are simpler models such as Random Forest and kNN that can still achieve decent accuracies. Similarly, one procedure which is usually a very helpful preprocessing step before model generation is data standardization. However, that significantly reduced performance, as seen by the Random Forest Model. This suggests that even though all the columns don't have the exact same ranges, it doesn't impact the model. This makes sense because the features I chose don't have significantly different ranges (1 to 4 vs. 1 to 23). On the other hand, I learned about models that worked well with this type of data. For example, Random Forest and kNN (n=1) both performed well. I believe that future studies should definitely implement these models with larger datasets. Additionally, PCA indicated that not all the features I initially considered are required for some models, and that we can use two of the four features and only witness a slight decrease in accuracy (<5%). This helps when analyzing much larger datasets, since we can essentially cut the training dataset sizes in half (columnwise), during the initial model generation process, and observe comparable results. Then, after fully evaluating the model, we can incorporate the entire training set to improve the performance slightly. Of course, after including the full dataset we would still evaluate the performance to ensure the model performed better, and reassess the model's features and assumptions if it performed worse.\n",
    "\n",
    "One of my research questions was about understanding the impact of base pair location (on a chromosome) on the degree of SNP association. The small regression coeffecient of -0.0708 in the Logistic Regression model indicates that there is a very weak to no correlation between them. This supports previous findings that base pair location doesn't have any major impact on a SNP's degree of association, and suggests that this feature isn't very important (or at least for this type of model). My other question was about the impact of some other features (OR, chromosomal location, effect allele) on a SNP's association level, and whether we could use these features in a predictive model. Based on my results, I definitely believe that we can since some of the models performed fairly well. If we could not use these features, then I believe the models would have performed much worse, but since they didn't, these features do have a non-negligible impact on a SNP's association level, and should definitely be incorporated in future models.\n",
    "\n",
    "Next steps include identifying larger datasets so that I can develop a more representative model. Specifically, I would like to obtain larger datasets for individual allergy phenotypes. Different phenotypes can have different feature trends, so there should be a model for each phenotype. I attempted to create phenotype-specific models, but the results were largely skewed by the small sample sizes and overlapping traits. Now, I can easily use the procedures that worked in this project, and apply them on more representative datasets. Overall, the goal is to further develop these types of models to use an individual's sequenced genome as an input, and output whether that individual is likely to have an allergy to a certain phenotype. This will allow doctors to recommend individuals not to expose themselves to certain allergens until thorough testing is performed to verify if he or she has the allergy. This will help prevent potentially fatal allergic reactions and help the millions of individuals who suffer with allergies everyday."
   ]
  },
  {
   "cell_type": "markdown",
   "metadata": {},
   "source": [
    "### Limitations"
   ]
  },
  {
   "cell_type": "markdown",
   "metadata": {},
   "source": [
    "There were several limitations of this dataset. First, the dataset had a limited number of phenotypes. There were comparatively few allergic disease related phenotypes in the GWAS Catalog compared to other sources (however, these other sources didn't have the biological information I was interested in). I scraped all the allergy traits and that resulted in ~1500 SNPs. If the Catalog had more allergy phenotypes then I could have incorporated many more SNPs into my analysis. \n",
    "\n",
    "Similarly, there were some overlapping phenotypes. For example, 'Eczema, allergic rhinitis' was one phenotype and 'Eczema, allergic rhinitis, asthma' was a different phenotype. There were two main problems with this. First, eczema, allergic rhinitis, and asthma should all be their own phenotypes. Second, what was the difference between these two phenotypes? There was a decent amount of overlap among these phenotypes and the only fundamental difference was the GWAS that identified the association. This resulted in different p-values, and possibly different beta coefficients and odds ratios, for the same variant (SNP). However, the biological features of the SNP (chromosome, base pair location, etc.) were all the same.  On top of this, there was another phenotype labeled 'atopic eczema'. These overlapping phenotypes introduced several sources of confounding, and I couldn't remove them because these phenotypes had the largest numbers of SNPs, so removing them would significantly reduce the size of the dataset. \n",
    "\n",
    "Next, there was a decent amount of missing data in some columns. The beta coefficient column was one example, which was interesting because the odds ratio column didn't have this same problem and the beta coefficient can be calculated from the odds ratio. This made me doubt the validity of the odds ratio values, but it just may have been that the GWAS Catalog's automated pipeline didn't calculate the beta-coefficient if it was missing, even though it should have. Additionally, not a lot of SNPs had a list of nearby genes. This was surprising from a biological aspect since we expect SNPs to be located near genes if they impact the predisposition of a phenotype. This might have been a limitation of the software used to extract the relevant biological information.\n",
    "\n",
    "Another limitation was the imbalance of SNP associations per trait. Ideally, all traits would have the same number of associations, or at least similar counts (in this dataset some phenotypes had ~300 SNPs and some had ~5 SNPs). Since that was not the case, some classification models may have exhibited overfitting or underfitting based on the data available.\n",
    "\n",
    "An additional limitation was that I didn't have access to other details from the GWAS that identified a SNP. Specifically, I didn't have access to the number of traits or number of SNPs analyzed in the study. If I had access to that data, I could have used it to identify if the p-value of the SNP association reached genome-wide significance (based on the study it was analyzed in). Instead, I had to generate the genome-wide significance threshold based on the available data in GWAS Catalog. This was fine since I combined several phenotypes, but ideally I would have access to each study's threshold.\n",
    "\n",
    "Furthermore, despite the software verification that the GWAS Catalog performed, there could have been errors with the reported associations. Some of the related biological data (chromosome, effect allele, etc.) could have been collected incorrectly and that would have skewed the results. This didn't seem to be a major problem since the GWAS Catalog has been used for several years, and if there was a major problem another user most likely would have already reported it.\n",
    "\n",
    "Lastly, there were some more limitations that I identified when creating the models. First, there was an imbalance in discrete p-value levels. Specifically, the number of SNPs reaching genome-wide significance, suggestive association, and not being considered significant largely differed. For instance, the 3-level discrete p-values had 450 SNPs (41%) reached genome-wide significance, 275 SNPs (25%) that reached the suggestive association threshold, and 375 SNPs (34%) that were not significant. This was not an extremely large imbalance, but ideally the dataset would include about 33% of each significance level. One possible reason for the larger number of genome-wide significant SNPs is because researchers mainly report significant GWAS findings. This is the general tendency since everyone wants to identify novel findings, but this limits model generation since we need a fully-representative sample space. Similarly, the thresholds I used for genome-wide significance and suggestive association depended on the number of SNPs and allergy studies in the GWAS catalog, so the values will change as more are included. This is a limitation of how the thresholds are defined in this field, since I modeled my formula off of the way many GWAS determine their thresholds. There should be a more standardized way of creating a threshold, which includes some normalization for new SNPs, so that the threshold isn't severely impacted when new findings are added (and the number of SNPs/studies increases).\n",
    "\n",
    "Overall, several of these limitations can be addressed by obtaining more data. Of course, this is very simple in theory, but many data science projects are limited by the accessibility of data. In this field, current research includes automating genome sequencing as well as association studies, such as GWAS, so hopefully it will soon be much easier to obtain larger datasets. Regardless, these limitations don't change the fact that computational modeling can be used to identify allergic disease and help all individuals with allergies."
   ]
  },
  {
   "cell_type": "markdown",
   "metadata": {},
   "source": [
    "### Source Code"
   ]
  },
  {
   "cell_type": "markdown",
   "metadata": {},
   "source": [
    "[Github Repository](https://github.com/roninsharma25/info-2950-final-project)"
   ]
  },
  {
   "cell_type": "markdown",
   "metadata": {},
   "source": [
    "### Acknowledgements"
   ]
  },
  {
   "cell_type": "markdown",
   "metadata": {},
   "source": [
    "Throughout the notebook, I linked the sources for background information and data collection. I used the [scikit-learn documentation](https://scikit-learn.org/stable/modules/classes.html) frequently when analyzing the dataset. I would like to thank the GWAS Catalog for being open-source, which allowed me to extract lots of data from the repository."
   ]
  },
  {
   "cell_type": "markdown",
   "metadata": {},
   "source": [
    "### Appendix"
   ]
  },
  {
   "cell_type": "markdown",
   "metadata": {},
   "source": [
    "#### Data Analysis"
   ]
  },
  {
   "cell_type": "markdown",
   "metadata": {},
   "source": [
    "##### Boosting"
   ]
  },
  {
   "cell_type": "code",
   "execution_count": 25,
   "metadata": {},
   "outputs": [
    {
     "name": "stdout",
     "output_type": "stream",
     "text": [
      "Accuracy Score (Gradient Boosting): 0.6515151515151515\n",
      "Accuracy Score (AdaBoost): 0.5545454545454546\n"
     ]
    }
   ],
   "source": [
    "x_train, x_test, y_train, y_test = train_test_split(subset_df_lin[[\"OR\", \"CHR\", \"BP_DISCRETE\", \n",
    "                                                                   \"EFFECT_ALLELE_DISCRETE\"]], \n",
    "                                                    subset_df_lin[\"PVALUE_DISCRETE_3LEVELS\"], \n",
    "                                                    test_size = 0.30, random_state = 10)\n",
    "\n",
    "# Gradient Boosting\n",
    "\n",
    "gradient_boosted_tree = GradientBoostingClassifier(n_estimators = 50, random_state = 10)\n",
    "model = gradient_boosted_tree.fit(x_train, y_train)\n",
    "\n",
    "predictions = model.predict(x_test)\n",
    "score = accuracy_score(predictions, y_test)\n",
    "print(\"Accuracy Score (Gradient Boosting):\", score)\n",
    "\n",
    "# AdaBoost\n",
    "\n",
    "ada_boosted_tree = AdaBoostClassifier(n_estimators = 50, random_state = 10)\n",
    "model_ada = ada_boosted_tree.fit(x_train, y_train)\n",
    "\n",
    "predictions = model_ada.predict(x_test)\n",
    "score = accuracy_score(predictions, y_test)\n",
    "print(\"Accuracy Score (AdaBoost):\", score)"
   ]
  },
  {
   "cell_type": "markdown",
   "metadata": {},
   "source": [
    "##### Stacking"
   ]
  },
  {
   "cell_type": "code",
   "execution_count": 26,
   "metadata": {},
   "outputs": [
    {
     "name": "stdout",
     "output_type": "stream",
     "text": [
      "Accuracy Score (1st model): 0.6276041666666666\n",
      "Accuracy Score (2nd model): 0.7005208333333334\n",
      "Stacked Score (kNN then Random Forest): 0.5575757575757576\n"
     ]
    }
   ],
   "source": [
    "# kNN then Random Forest\n",
    "\n",
    "x_train, x_test, y_train, y_test = train_test_split(subset_df_lin[[\"OR\", \"CHR\", \"BP_DISCRETE\", \n",
    "                                                                   \"EFFECT_ALLELE_DISCRETE\"]], \n",
    "                                                    subset_df_lin[\"PVALUE_DISCRETE_3LEVELS\"], \n",
    "                                                    test_size = 0.30, random_state = 10)\n",
    "\n",
    "# splits training into 2 folds\n",
    "kf = KFold(n_splits = 2)\n",
    "split1, split2 = kf.split(x_train, y_train)\n",
    "\n",
    "\n",
    "# kNN - uses first fold\n",
    "x_train_kNN = x_train.iloc[split1[0]]\n",
    "x_test_kNN = x_train.iloc[split1[1]]\n",
    "y_train_kNN = y_train.iloc[split1[0]]\n",
    "y_test_kNN = y_train.iloc[split1[1]]\n",
    "\n",
    "model_1 = KNeighborsClassifier(n_neighbors = 1)\n",
    "model_1.fit(x_train_kNN, y_train_kNN)\n",
    "\n",
    "kNN_pred = model_1.predict(x_test_kNN)\n",
    "print(\"Accuracy Score (1st model):\", accuracy_score(y_test_kNN, kNN_pred))\n",
    "\n",
    "# Random Forest - uses second fold\n",
    "x_train_rf = x_train.iloc[split2[0]]\n",
    "x_test_rf = x_train.iloc[split2[1]]\n",
    "y_train_rf = y_train.iloc[split2[0]]\n",
    "y_test_rf = y_train.iloc[split2[1]]\n",
    "\n",
    "model_2 = RandomForestClassifier(random_state = 10)\n",
    "model_2.fit(x_train_rf, y_train_rf)\n",
    "\n",
    "rf_pred = model_2.predict(x_test_rf)\n",
    "print(\"Accuracy Score (2nd model):\", accuracy_score(rf_pred, y_test_rf))\n",
    "\n",
    "# Stacking - combines the two folds\n",
    "kNN_pred = kNN_pred.reshape(-1,1)\n",
    "rf_pred = rf_pred.reshape(-1,1)\n",
    "pred_input = np.vstack([kNN_pred, rf_pred])\n",
    "\n",
    "# Stacked model uses logistic regression to decide which outcome to predict\n",
    "stacked = LogisticRegression()\n",
    "stacked.fit(pred_input, y_train)\n",
    "\n",
    "# the first layer predicts\n",
    "pred_test = pd.DataFrame({'kNN': model_1.predict(x_test), 'Random Forest': model_2.predict(x_test)})\n",
    "\n",
    "# the average of the predictions is calculated\n",
    "pred_test = pred_test.assign(avg = pred_test.mean(axis = 1))\n",
    "stacked_pred = stacked.predict(pred_test[['avg']])\n",
    "\n",
    "stacked_score = (y_test == stacked_pred).sum() / len(stacked_pred)\n",
    "print(\"Stacked Score (kNN then Random Forest): \" + str(stacked_score))"
   ]
  },
  {
   "cell_type": "code",
   "execution_count": 27,
   "metadata": {},
   "outputs": [
    {
     "name": "stdout",
     "output_type": "stream",
     "text": [
      "Accuracy Score (1st model): 0.7109375\n",
      "Accuracy Score (2nd model): 0.6276041666666666\n",
      "Stacked Score (Random Forest then kNN): 0.5454545454545454\n"
     ]
    }
   ],
   "source": [
    "# Random Forest then kNN\n",
    "\n",
    "x_train, x_test, y_train, y_test = train_test_split(subset_df_lin[[\"OR\", \"CHR\", \"BP_DISCRETE\", \n",
    "                                                                   \"EFFECT_ALLELE_DISCRETE\"]], \n",
    "                                                    subset_df_lin[\"PVALUE_DISCRETE_3LEVELS\"], \n",
    "                                                    test_size = 0.30, random_state = 10)\n",
    "\n",
    "# splits training into 2 folds\n",
    "kf = KFold(n_splits = 2)\n",
    "split1, split2 = kf.split(x_train, y_train)\n",
    "\n",
    "# Random Forest - uses first fold\n",
    "x_train_rf = x_train.iloc[split1[0]]\n",
    "x_test_rf = x_train.iloc[split1[1]]\n",
    "y_train_rf = y_train.iloc[split1[0]]\n",
    "y_test_rf = y_train.iloc[split1[1]]\n",
    "\n",
    "model_1 = RandomForestClassifier(random_state = 10)\n",
    "model_1.fit(x_train_rf, y_train_rf)\n",
    "\n",
    "rf_pred = model_1.predict(x_test_rf)\n",
    "print(\"Accuracy Score (1st model):\", accuracy_score(rf_pred, y_test_rf))\n",
    "\n",
    "# kNN - uses second fold\n",
    "x_train_kNN = x_train.iloc[split2[0]]\n",
    "x_test_kNN = x_train.iloc[split2[1]]\n",
    "y_train_kNN = y_train.iloc[split2[0]]\n",
    "y_test_kNN = y_train.iloc[split2[1]]\n",
    "\n",
    "model_2 = KNeighborsClassifier(n_neighbors = 1)\n",
    "model_2.fit(x_train_kNN, y_train_kNN)\n",
    "\n",
    "kNN_pred = model_2.predict(x_test_kNN)\n",
    "print(\"Accuracy Score (2nd model):\", accuracy_score(y_test_kNN, kNN_pred))\n",
    "\n",
    "# Stacking - combines the two folds\n",
    "rf_pred = rf_pred.reshape(-1,1)\n",
    "kNN_pred = kNN_pred.reshape(-1,1)\n",
    "pred_input = np.vstack([rf_pred, kNN_pred])\n",
    "\n",
    "# Stacked model uses logistic regression to decide which outcome to predict\n",
    "stacked = LogisticRegression()\n",
    "stacked.fit(pred_input, y_train)\n",
    "\n",
    "# the first layer predicts\n",
    "pred_test = pd.DataFrame({'Random Forest': model_1.predict(x_test), 'kNN': model_2.predict(x_test)})\n",
    "\n",
    "# the average of the predictions is calculated\n",
    "pred_test = pred_test.assign(avg = pred_test.mean(axis = 1))\n",
    "stacked_pred = stacked.predict(pred_test[['avg']])\n",
    "\n",
    "stacked_score = (y_test == stacked_pred).sum() / len(stacked_pred)\n",
    "print(\"Stacked Score (Random Forest then kNN): \" + str(stacked_score))"
   ]
  },
  {
   "cell_type": "markdown",
   "metadata": {},
   "source": [
    "##### Support Vector Machine"
   ]
  },
  {
   "cell_type": "code",
   "execution_count": 28,
   "metadata": {},
   "outputs": [
    {
     "name": "stdout",
     "output_type": "stream",
     "text": [
      "Accuracy Score (SVM): 0.41818181818181815\n"
     ]
    }
   ],
   "source": [
    "x_train, x_test, y_train, y_test = train_test_split(subset_df_lin[[\"OR\", \"CHR\", \"BP_DISCRETE\", \n",
    "                                                                   \"EFFECT_ALLELE_DISCRETE\"]], \n",
    "                                                    subset_df_lin[\"PVALUE_DISCRETE_3LEVELS\"], \n",
    "                                                    test_size = 0.30, random_state = 10)\n",
    "\n",
    "model = SVC(kernel = \"linear\", C = 0.5, gamma = 0.5, random_state = 10)\n",
    "model.fit(x_train, y_train)\n",
    "pred = model.predict(x_test)\n",
    "score = accuracy_score(pred, y_test)\n",
    "\n",
    "print(\"Accuracy Score (SVM):\", score)"
   ]
  },
  {
   "cell_type": "markdown",
   "metadata": {},
   "source": [
    "##### Multi-Layer Perceptron Neural Network"
   ]
  },
  {
   "cell_type": "code",
   "execution_count": 29,
   "metadata": {},
   "outputs": [
    {
     "name": "stdout",
     "output_type": "stream",
     "text": [
      "Accuracy Score (Neural Network): 0.5\n"
     ]
    }
   ],
   "source": [
    "x_train, x_test, y_train, y_test = train_test_split(subset_df_lin[[\"OR\", \"CHR\", \"BP_DISCRETE\", \n",
    "                                                                   \"EFFECT_ALLELE_DISCRETE\"]], \n",
    "                                                    subset_df_lin[\"PVALUE_DISCRETE_3LEVELS\"], \n",
    "                                                    test_size = 0.30, random_state = 10)\n",
    "\n",
    "# 5 hidden layers with 100 neurons per layer\n",
    "model = MLPClassifier(hidden_layer_sizes = (100, 100, 100, 100, 100), max_iter = 1000, random_state = 10)\n",
    "model.fit(x_train, y_train)\n",
    "pred = model.predict(x_test)\n",
    "score = accuracy_score(pred, y_test)\n",
    "\n",
    "print(\"Accuracy Score (Neural Network):\", score)"
   ]
  },
  {
   "cell_type": "markdown",
   "metadata": {},
   "source": [
    "#### Model Generation for Single Phenotypes"
   ]
  },
  {
   "cell_type": "markdown",
   "metadata": {},
   "source": [
    "##### Logistic Regression"
   ]
  },
  {
   "cell_type": "code",
   "execution_count": 30,
   "metadata": {},
   "outputs": [],
   "source": [
    "# Function that subsets the dataset based on the provided trait, and then creates a Logistic Regression model\n",
    "def performLogit(trait):\n",
    "    df = all_few_missing[ all_few_missing[\"TRAIT\"] == trait].copy()\n",
    "    \n",
    "    # update for only one phenotype, \n",
    "    # also needed to slightly increase the threshold since some traits didn't have any SNPs below it, \n",
    "    # but that is a requirement to create the model\n",
    "    threshold_genwidesig = (1e-8)\n",
    "    \n",
    "    subset_df_log = df[[\"PVALUE\", \"BP_DISCRETE\"]].copy()\n",
    "    subset_df_log[\"PVALUE_DISCRETE_2LEVELS\"] = [1 if val < threshold_genwidesig \n",
    "                                                else 0 for val in subset_df_log[\"PVALUE\"]]\n",
    "\n",
    "    x_train, x_test, y_train, y_test = train_test_split(subset_df_log[[\"BP_DISCRETE\"]], \n",
    "                                                        subset_df_log[\"PVALUE_DISCRETE_2LEVELS\"], \n",
    "                                                        test_size = 0.30, random_state = 10)\n",
    "\n",
    "    model_logit = LogisticRegression(random_state = 10).fit(x_train, y_train)\n",
    "    print(\"Logistic Regression Coefficient:\", round(model_logit.coef_[0][0], 4))\n",
    "\n",
    "    predictions = model_logit.predict(x_test)\n",
    "    print(\"Model Prediction Accuracy:\", round(sum(predictions == y_test) * 100 / len(predictions), 4))\n",
    "    print()"
   ]
  },
  {
   "cell_type": "code",
   "execution_count": 31,
   "metadata": {
    "scrolled": false
   },
   "outputs": [
    {
     "name": "stdout",
     "output_type": "stream",
     "text": [
      "Logistic Regression Coefficient: -0.6771\n",
      "Model Prediction Accuracy: 88.2353\n",
      "\n",
      "Logistic Regression Coefficient: 0.0894\n",
      "Model Prediction Accuracy: 52.6316\n",
      "\n",
      "Logistic Regression Coefficient: 0.0365\n",
      "Model Prediction Accuracy: 91.3978\n",
      "\n"
     ]
    }
   ],
   "source": [
    "performLogit(\"seasonal allergic rhinitis\")\n",
    "performLogit(\"seasonal allergic rhinitis, asthma\")\n",
    "performLogit(\"Eczema, allergic rhinitis\")"
   ]
  },
  {
   "cell_type": "markdown",
   "metadata": {},
   "source": [
    "##### Linear Regression"
   ]
  },
  {
   "cell_type": "code",
   "execution_count": 32,
   "metadata": {},
   "outputs": [],
   "source": [
    "# Function that subsets the dataset based on the provided trait, and then creates a Linear Regression model\n",
    "def performLinReg(trait):\n",
    "    df = all_few_missing[ all_few_missing[\"TRAIT\"] == trait].copy()\n",
    "    subset_df_lin = df[[\"PVALUE\", \"OR\", \"CHR\", \"BP_DISCRETE\", \"EFFECT_ALLELE_DISCRETE\"]].copy()\n",
    "    \n",
    "    threshold_suggassoc = (5e-5) # update for only one phenotype\n",
    "\n",
    "    # Remove missing values which was represented with -10 (other columns don't have any) before model generation\n",
    "    subset_df_lin = subset_df_lin[subset_df_lin[\"EFFECT_ALLELE_DISCRETE\"] != -10]\n",
    "\n",
    "    # Create association level column\n",
    "    subset_df_lin[\"PVALUE_DISCRETE_3LEVELS\"] = [2 if val < threshold_genwidesig else \n",
    "                                                (1 if val < threshold_suggassoc else 0) \n",
    "                                                for val in subset_df_lin[\"PVALUE\"]]\n",
    "\n",
    "    x_train, x_test, y_train, y_test = train_test_split(subset_df_lin[[\"OR\", \"CHR\", \"BP_DISCRETE\", \n",
    "                                                                       \"EFFECT_ALLELE_DISCRETE\"]], \n",
    "                                                        subset_df_lin[\"PVALUE_DISCRETE_3LEVELS\"], \n",
    "                                                        test_size = 0.30, random_state = 10)\n",
    "\n",
    "    model_lin = LinearRegression().fit(x_train, y_train)\n",
    "    print(\"Model Regression Coefficient:\", round(model_lin.coef_[0], 4))\n",
    "\n",
    "    predictions = model_lin.predict(x_test)\n",
    "    print(\"Model Prediction Accuracy:\", round(sum(predictions == y_test) * 100 / len(predictions), 5))\n",
    "\n",
    "    # Hybrid Model\n",
    "\n",
    "    # Convert the predictions from being continuous to discrete\n",
    "    pred = [2 if val < threshold_genwidesig else (1 if val < threshold_suggassoc else 0) for val in predictions]\n",
    "\n",
    "    # Convert the actual values from being continuous to discrete\n",
    "    y_test_discrete = [2 if val < threshold_genwidesig else (1 if val < threshold_suggassoc else 0) \n",
    "                       for val in y_test]\n",
    "\n",
    "    print(\"Hybrid Model Prediction Accuracy:\", accuracy_score(pred, y_test_discrete))\n",
    "    print()"
   ]
  },
  {
   "cell_type": "code",
   "execution_count": 33,
   "metadata": {},
   "outputs": [
    {
     "name": "stdout",
     "output_type": "stream",
     "text": [
      "Model Regression Coefficient: 0.0\n",
      "Model Prediction Accuracy: 100.0\n",
      "Hybrid Model Prediction Accuracy: 1.0\n",
      "\n",
      "Model Regression Coefficient: -0.1031\n",
      "Model Prediction Accuracy: 0.0\n",
      "Hybrid Model Prediction Accuracy: 1.0\n",
      "\n",
      "Model Regression Coefficient: 3.0559\n",
      "Model Prediction Accuracy: 0.0\n",
      "Hybrid Model Prediction Accuracy: 1.0\n",
      "\n"
     ]
    }
   ],
   "source": [
    "performLinReg(\"seasonal allergic rhinitis\")\n",
    "performLinReg(\"seasonal allergic rhinitis, asthma\")\n",
    "performLinReg(\"Eczema, allergic rhinitis\")"
   ]
  },
  {
   "cell_type": "markdown",
   "metadata": {},
   "source": [
    "##### Additional Models"
   ]
  },
  {
   "cell_type": "code",
   "execution_count": 34,
   "metadata": {},
   "outputs": [],
   "source": [
    "# Function that subsets the dataset based on the provided trait, and then creates a Random Forest model\n",
    "def createRandomForestModel(trait):\n",
    "    df = all_few_missing[ all_few_missing[\"TRAIT\"] == trait].copy()\n",
    "    subset_df_lin = df[[\"PVALUE\", \"OR\", \"CHR\", \"BP_DISCRETE\", \"EFFECT_ALLELE_DISCRETE\"]].copy()\n",
    "    \n",
    "    threshold_suggassoc = (5e-5) # update for only one phenotype\n",
    "\n",
    "    # Remove missing values which was represented with -10 (other columns don't have any) before model generation\n",
    "    subset_df_lin = subset_df_lin[subset_df_lin[\"EFFECT_ALLELE_DISCRETE\"] != -10]\n",
    "\n",
    "    # Create association level column\n",
    "    subset_df_lin[\"PVALUE_DISCRETE_3LEVELS\"] = [2 if val < threshold_genwidesig else \n",
    "                                                (1 if val < threshold_suggassoc else 0) \n",
    "                                                for val in subset_df_lin[\"PVALUE\"]]\n",
    "\n",
    "    x_train, x_test, y_train, y_test = train_test_split(subset_df_lin[[\"OR\", \"CHR\", \"BP_DISCRETE\", \n",
    "                                                                       \"EFFECT_ALLELE_DISCRETE\"]], \n",
    "                                                        subset_df_lin[\"PVALUE_DISCRETE_3LEVELS\"], \n",
    "                                                        test_size = 0.30, random_state = 10)\n",
    "\n",
    "    model_rf = RandomForestClassifier(random_state = 10)\n",
    "    model_rf.fit(x_train, y_train)\n",
    "    no_standard_score = model_rf.score(x_test, y_test)\n",
    "\n",
    "    print(\"Random Forest (no standardization) Score:\", no_standard_score)\n",
    "\n",
    "    # Standardize data\n",
    "\n",
    "    scaler = StandardScaler()\n",
    "    scaler.fit(x_train)\n",
    "\n",
    "    x_train = scaler.transform(x_train)\n",
    "    x_test = scaler.transform(x_test)\n",
    "\n",
    "    model_rf_st = RandomForestClassifier(random_state = 10)\n",
    "    model_rf_st.fit(x_train, y_train)\n",
    "    with_standard_score = model_rf.score(x_test, y_test)\n",
    "\n",
    "    print(\"Random Forest (with standardization) Score:\", with_standard_score)\n",
    "    print()"
   ]
  },
  {
   "cell_type": "code",
   "execution_count": 35,
   "metadata": {},
   "outputs": [
    {
     "name": "stdout",
     "output_type": "stream",
     "text": [
      "Random Forest (no standardization) Score: 1.0\n",
      "Random Forest (with standardization) Score: 1.0\n",
      "\n",
      "Random Forest (no standardization) Score: 1.0\n",
      "Random Forest (with standardization) Score: 0.9473684210526315\n",
      "\n",
      "Random Forest (no standardization) Score: 1.0\n",
      "Random Forest (with standardization) Score: 0.5591397849462365\n",
      "\n"
     ]
    }
   ],
   "source": [
    "createRandomForestModel(\"seasonal allergic rhinitis\")\n",
    "createRandomForestModel(\"seasonal allergic rhinitis, asthma\")\n",
    "createRandomForestModel(\"Eczema, allergic rhinitis\")"
   ]
  },
  {
   "cell_type": "code",
   "execution_count": 36,
   "metadata": {},
   "outputs": [],
   "source": [
    "# Function that subsets the dataset based on the provided trait, and then creates a kNN model\n",
    "# kNN (n=1), chose the number of neighbors that performed the best previously\n",
    "def createkNNModel(trait):\n",
    "    df = all_few_missing[ all_few_missing[\"TRAIT\"] == trait].copy()\n",
    "    subset_df_lin = df[[\"PVALUE\", \"OR\", \"CHR\", \"BP_DISCRETE\", \"EFFECT_ALLELE_DISCRETE\"]].copy()\n",
    "    \n",
    "    threshold_suggassoc = (5e-5) # update for only one phenotype\n",
    "\n",
    "    # Remove missing values which was represented with -10 (other columns don't have any) before model generation\n",
    "    subset_df_lin = subset_df_lin[subset_df_lin[\"EFFECT_ALLELE_DISCRETE\"] != -10]\n",
    "\n",
    "    # Create association level column\n",
    "    subset_df_lin[\"PVALUE_DISCRETE_3LEVELS\"] = [2 if val < threshold_genwidesig else \n",
    "                                                (1 if val < threshold_suggassoc else 0) \n",
    "                                                for val in subset_df_lin[\"PVALUE\"]]\n",
    "\n",
    "    x_train, x_test, y_train, y_test = train_test_split(subset_df_lin[[\"OR\", \"CHR\", \"BP_DISCRETE\", \n",
    "                                                                       \"EFFECT_ALLELE_DISCRETE\"]], \n",
    "                                                        subset_df_lin[\"PVALUE_DISCRETE_3LEVELS\"], \n",
    "                                                        test_size = 0.30, random_state = 10)\n",
    "\n",
    "    model_kNN = KNeighborsClassifier(n_neighbors = 1)\n",
    "    model_kNN.fit(x_train, y_train)\n",
    "    model_kNN_score = model_kNN.score(x_test, y_test)\n",
    "\n",
    "    print(\"kNN (n=1) Score:\", model_kNN_score)\n",
    "    print()"
   ]
  },
  {
   "cell_type": "code",
   "execution_count": 37,
   "metadata": {},
   "outputs": [
    {
     "name": "stdout",
     "output_type": "stream",
     "text": [
      "kNN (n=1) Score: 1.0\n",
      "\n",
      "kNN (n=1) Score: 1.0\n",
      "\n",
      "kNN (n=1) Score: 0.956989247311828\n",
      "\n"
     ]
    }
   ],
   "source": [
    "createkNNModel(\"seasonal allergic rhinitis\")\n",
    "createkNNModel(\"seasonal allergic rhinitis, asthma\")\n",
    "createkNNModel(\"Eczema, allergic rhinitis\")"
   ]
  }
 ],
 "metadata": {
  "kernelspec": {
   "display_name": "Python 3",
   "language": "python",
   "name": "python3"
  },
  "language_info": {
   "codemirror_mode": {
    "name": "ipython",
    "version": 3
   },
   "file_extension": ".py",
   "mimetype": "text/x-python",
   "name": "python",
   "nbconvert_exporter": "python",
   "pygments_lexer": "ipython3",
   "version": "3.8.5"
  }
 },
 "nbformat": 4,
 "nbformat_minor": 4
}
