{
 "cells": [
  {
   "cell_type": "markdown",
   "metadata": {},
   "source": [
    "### Introduction"
   ]
  },
  {
   "cell_type": "markdown",
   "metadata": {},
   "source": [
    "My project focuses on the genetic aspect of allergies. Specifically, I am interested in understanding the effect of single-nucleotide polymorphisms (SNPs) on allergic disease. A SNP is a single base pair mutation in an individual's genome. In the field of computational biology and bioinformatics, there are association studies performed, such as genome-wide association studies (GWAS) and exome-wide association studies (EXWAS), which aim to identify SNPs associated with traits of interest. After these studies are completed, the analysis of the associations is a critical step. In some cases, individuals identify cohorts for association studies and then analyze those results independently. However, in the current era of big data, there are repositories that store the results of many association studies, and allow individuals to conduct large scale meta-analyses.\n",
    "\n",
    "__Research Questions__: How does base pair location impact the degree of SNP association? For example, are SNPs located at the beginning of chromosomes (smaller base pair location) more likely do be associated with allergic disease? Similarly, how do odds ratio, chromosomal location, and the effect allele impact the association level? Can we use some of these characteristics to predict if a SNP will have a strong association? Which of these characteristics are the most important to include when creating models?\n",
    "\n",
    "I created a few models that was capable of predicting the degree of SNP association based on several features. Some models performed much better than others. The basic Linear and Logistic Regression Models had prediction accuracies lower than 60%, but the Random Forest Model had an average accuracy above 90%. These models can be applied to predict the severity of SNP associations for related allergy phenotypes."
   ]
  },
  {
   "cell_type": "markdown",
   "metadata": {},
   "source": [
    "### Data Description"
   ]
  },
  {
   "cell_type": "markdown",
   "metadata": {},
   "source": [
    "__Motivation__\n",
    "\n",
    "I obtained the original datasets from the GWAS Catalog. The GWAS Catalog was founded by the National Human Genome Research Institute (NHGRI) in 2008. The catalog was created in response to the significant increase in genome-wide association studies (GWAS) published. It has been challenging to identify published GWAS to fit specific needs since there are so many studies and each study analyzes multiple phenotypes. There were limited resources that combined the results of all these studies. The GWAS Catalog is a large-scale database of associations that allows users to search for GWAS results, and visualize them using several biological criteria.\n",
    "\n",
    "The GWAS Catalog was developed by the European Bioinformatics Institue at the European Molecular Biology Laboratory (EMBL-EMI) in collaboration with the NHGRI. There was a team of geneticists, molecular biologics, and software developers who created it. The group was led by Helen Parkinson, Fiona Cunningham, Paul Flicek, and Lucia Hindorff.\n",
    "\n",
    "The GWAS Catalog was funded by the NHGRI Grant Number 2U41HG007823. There was not a specific grant name. The grant was delivered by collaboration between the NHGRI, EMBL-EBI, and the National Center for Biotechnology Information (NCBI).\n",
    "\n",
    "__Composition__\n",
    "\n",
    "Each row in the dataset represents one single-nucleotide polymorphism (SNP). A SNP is a mutation in the genome at a specific base pair location. This is the only type of instance in the dataset. In the entire dataset, there are 1543 total instances (SNPs). SNPs can be associated with diseases, and in this dataset all the SNPs are associated with an allergy-related disease. So, this sample is not representative of all SNP associations. This choice was deliberate because I wanted to focus on allergic disease, so I only chose the related phenotypes. The non-allergy SNP associationswere deliberately not included.\n",
    "\n",
    "\n",
    "Each instance consists of 14 pieces of information (there are 14 columns) that provide information about the SNP association. In order, the columns are BETA, CHR, BP, OR, RAF, PVALUE, VARIANT, EFFECT_ALLELE, TRAIT, MAPPED_GENE_LIST, NUM_MAPPED_GENES, TRAITS_ASSOCIATED_WITH_MAPPED_GENES, BP_DISCRETE, and EFFECT_ALLELE_DISCRETE.\n",
    "\n",
    "1. BETA: Beta-coefficient associated with the SNP\n",
    "2. CHR: Chromsome the SNP is located on\n",
    "3. BP: Base pair location (on the chromosome) of the SNP\n",
    "4. OR: Odds-ratio associated with the SNP\n",
    "5. RAF: Risk allele (effect allele) frequency associated with the SNP\n",
    "6. PVALUE: P-value for the SNP association (with the allergic disease trait)\n",
    "7. VARIANT: rsID of the SNP\n",
    "8. EFFECT_ALLELE: effect allele (risk allele) - resulting allele (T, A, G, C) because of the SNP\n",
    "9. TRAIT: trait (phenotype) the SNP is associated with\n",
    "10. MAPPED_GENE_LIST: genes located near the SNP\n",
    "11. NUM_MAPPED_GENES: total number of genes located near the SNP\n",
    "12. TRAITS_ASSOCIATED_WITH_MAPPED_GENES: traits associated with the genes located near the SNP\n",
    "13. BP_DISCRETE: discrete transform of the continuous base pair location (continuous # -> 1-4)\n",
    "14. EFFECT_ALLELE_DISCRETE: discrete transform of the effect allele (T/A/G/C -> 1-4)\n",
    "\n",
    "There is a label associated with each instance. Every SNP has an rsID that is used for identification and it is a unique string for each SNP. The rsID format is a string starting with 'rs' followed by a sequence of numbers. The character limit is 40 bytes.\n",
    "\n",
    "There is some information missing from individual instances. For examples, some columns are missing data because it was not collected during the actual study, so it is not in the GWAS Catalog. A few examples of these columns include BETA, RAF, and EFFECT_ALLELE. Additionally, some SNPs are not located near genes (they are located in an intronic region), so there is nothing (empty list) in the MAPPED_GENES column. As a result, there is also nothing in the TRAITS_ASSOCIATED_WITH_MAPPED_GENES column.\n",
    "\n",
    "The relationships between individual instances can easily (relatively) be determined. Each instance is on its own row. We can see what information instances (SNPs) have in common by comparing the column values. For example, we can analyze the CHR column to group SNPs based on the chromosome they are located on.\n",
    "\n",
    "There are no recommended data splits. I hope to possibly find some after analyzing the dataset. For example, maybe RAF and EFFECT_ALLELE can be used to predict a SNP's associated trait.\n",
    "\n",
    "There aren't known errors in the dataset. The software used to add data to the GWAS Catalog is expected to catch errors (ex. chromosome > 23 or invalid effect allele). There are a few redundancies within the dataset. For example, the dataset contains both BETA and OR even though one can be calculated from the other. For this reason, I found it interesting that the BETA column had several missing values while the OR column didn't. Also, some of the additional columns that I added to the dataset (BP_DISCRETE, EFFECT_ALLELE_DISCRETE) will be helpful for analysis but introduced some redundancy since their continuous and string counterparts are still included in the dataset.\n",
    "\n",
    "This dataset is self-contained. It does not contain any confidential data. None of the data is offensive, insulting, threatening, or anxiety-inducing. The dataset does relate to people. The GWAS Catalog obtained some of its data from studies that sequenced individual's genomes. The dataset does not identify any subpopulations. Additionally, one can't identify individuals based on the dataset unless he or she has access to the individual's sequenced data, and that to wouldn't be enough because many people can have this SNP. The dataset does not contain any sensitive information.\n",
    "\n",
    "__Collection Process__\n",
    "\n",
    "The data associated with each instance was obtained from other GWAS. It was verified twice by different qualified members from the NHGRI during a two-step process. Scientists that conducted GWAS submitted their results to the GWAS Catalog. The data underwent an intensive review process and then an automated pipeline was used to extract any extra necessary biological information. This pipeline involved several software procedures (private and open source), including the [Ensembl API](http://rest.ensembl.org/). These methods were either verified previously by other studies or tested by the NHGRI and EMBL-EBI.\n",
    "\n",
    "This dataset is a sample from the entire GWAS catalog. I only obtained the data related to allergic disease. [Here](https://www.ebi.ac.uk/gwas/search?query=allergic%20disease) is an example of one of the datasets I downloaded and merged with several others. The data in the GWAS Catalog was collected by a team of geneticists, molecular biologics, and software developers. They worked for NHGRI and EMBL-EBI, and were compensated by their employers.\n",
    "\n",
    "The GWAS Catalog was published in 2008, but is still being updated. The dataset's instances were obtained from studies submitted to the GWAS Catalog, which may not have occurred in the exact same year as they were published in the Catalog. For example, a study may have occurred in 2010 and added to the catalog in 2012. This slight delay is often due to the time needed to verify the results of the submitted study.\n",
    "\n",
    "There were no ethical review processes since the GWAS Catalog didn't obtain the human data itself. It obtained the data from the studies, which must have needed some review process, but that depends on the specific study.\n",
    "\n",
    "The dataset does specifically relate to people. The catalog collects its data from GWAS, which used human genetic data. But the GWAS Catalog is not involved with the human participant process and just obtains the GWAS results. These results don't contain human-identifiable information.\n",
    "\n",
    "__Preprocessing/Cleaning/Labeling__\n",
    "\n",
    "Before adding data to the GWAS Catalog, a team of curators manually verifies that the data is accurate. The team examines the study that reported the data to check the accuracy and consistency of the findings. Some of the software used is noted [here](https://www.ebi.ac.uk/gwas/docs/pilots), but not all of it is open-source. After obtaining the data from a study, an automated pipeline adds more biological information before it is published to the GWAS Catalog. The pipeline identifies additional known biological information (such as the gene's base pair location) using the [Ensembl API](http://rest.ensembl.org/). However, the automated pipeline itself is not open-source.\n",
    "\n",
    "__Uses__\n",
    "\n",
    "I do not believe that my exact dataset has been used for other tasks. That would require an individual to follow the exact same steps that I did (merge the same datasets, scrape using the same endpoints, and perform the same preprocessing steps). However, others have definitely analyzed some of the same associations (rows) that my dataset has. There is not a specific task that they would have used the data for. Some tasks include performing a meta-analysis of GWAS, identifying similar SNPs and genes associated with different traits, and aggregating GWAS results into trait-specific/class-specific data repositories. There is not a repository that links to all papers that use the GWAS Catalog. However, all studies are requested to cite the catalog in the following way: \"Summary statistics were downloaded from the NHGRI-EBI GWAS Catalog on XX/XX/XXXX\".\n",
    "\n",
    "There are several scientists and research groups that submitted their studies to the GWAS Catalog. The privacy policy is included on the [GWAS Catalog Website](https://www.ebi.ac.uk/gwas/docs/about). This doesn't directly affect future users, but they should read about the policy if it is something they are concerned about. Future users should also be careful if they are restricting analysis to a specific time period. The GWAS Catalog announces updates and new releases on its website, but does not remove data from several years ago. So if future users only want to analyze data since 2015, as an example, they should carefully parse the data to only use entries within that time range. The data states the study it was extracted from, so users can easilly subset based on a date.\n",
    "\n",
    "There are not any specific taks for which the GWAS Catalog should not be used. There are just tasks for which it can be used to reduce the amount of web scraping and preprocessing required."
   ]
  },
  {
   "cell_type": "markdown",
   "metadata": {},
   "source": [
    "### Preregistration Statement"
   ]
  },
  {
   "cell_type": "markdown",
   "metadata": {},
   "source": [
    "__Analysis 1:__ I will create a logistic regression model that predicts the binarized SNP association level (significant or not significant) based on the discrete base pair location.\n",
    "\n",
    "__Analysis 2:__ I will create a linear regression model that predicts the discrete SNP association value (not significant, suggested significance, genome-wide significance) based on the continous odds ratio, discrete chromosomal location, discrete base pair location, and the discrete effect allele.\n",
    "\n",
    "I chose to incorporate these features because they were correlated and previous literature suggests that they might impact the SNP association values for allergic disease since they have impacted them for other traits.\n",
    "\n",
    "I will generate these models for the top three phenotypes in the dataset. If these models have a high accuracy, then it will be beneficial since there have been a few models that have incorporated allergic disease phenotype data in the past. This model can then be used as a building block for modeling data from related allergy phenotypes. If the results are not significant, then I will identify potential reasons why, such as if certain features should not have been included. I will further analyze the features in unsuccessful models in an individual capacity. An unsuccessful result would still be interesting because it would highlight the differences in allergy models with models for other diseases since some of these features have successfuly be used to model other diseases."
   ]
  },
  {
   "cell_type": "markdown",
   "metadata": {},
   "source": [
    "### Data Analysis"
   ]
  },
  {
   "cell_type": "code",
   "execution_count": 1,
   "metadata": {},
   "outputs": [],
   "source": [
    "import pandas as pd\n",
    "import numpy as np\n",
    "import matplotlib.pyplot as plt\n",
    "import seaborn as sns\n",
    "\n",
    "from sklearn.linear_model import LinearRegression\n",
    "from sklearn.linear_model import LogisticRegression\n",
    "from sklearn.model_selection import train_test_split\n",
    "from sklearn.ensemble import RandomForestClassifier\n",
    "from sklearn.preprocessing import StandardScaler\n",
    "from sklearn.decomposition import PCA\n",
    "from sklearn.model_selection import cross_val_score"
   ]
  },
  {
   "cell_type": "code",
   "execution_count": 2,
   "metadata": {},
   "outputs": [],
   "source": [
    "final_dataset = pd.read_csv(\"final_dataset.csv\")\n",
    "\n",
    "all_few_missing = final_dataset[(final_dataset[\"BP\"] != -10) & (final_dataset[\"OR\"] != -10)]"
   ]
  },
  {
   "cell_type": "markdown",
   "metadata": {},
   "source": [
    "#### Logistic Regression\n",
    "\n",
    "First, I created a Logistic Regression Model to predict SNP association level based on discrete base pair location. I create discrete SNP association levels based on the p-value of each SNP. In an individual, there is a threshold used to separate genome-wide significant associations with non-genome-wide significant associations. SNPs with p-values less than the threshold are classified as genome-wide significant, while SNPs with p-values greater than the threshold are not. However, there is not a single threshold used for all studies. It varies depending on the total number of SNPs and the number of traits analyzed in the study. One common method for calculating the threshold is: threshold $= \\frac{\\text{standard threshold}}{\\text{# SNPS analyzed } * \\text{ # traits}}$. I slightly modified this formula since I analyzed the results of multiple studies: threshold $= \\frac{\\text{standard threshold}}{\\text{# allergy SNPs in GWAS Catalog } * \\text{ # allergy studies}}$. This resulted in the threshold $= \\frac{5 * 10^{-8}}{830 * 30} = 2.0080 * 10^{-12}$ since $5 * 10^{-8}$ is the standard genome-wide significant threshold.\n",
    "\n",
    "I had to perform some preprocessing prior to creating the model. The initial dataset stored the p-values as continuous values, so I created a new column for this value. It was 1 if the p-value was genome-wide significant (less than the threshold) and 0 if it was not (greater than the threshold)."
   ]
  },
  {
   "cell_type": "code",
   "execution_count": 3,
   "metadata": {},
   "outputs": [
    {
     "data": {
      "text/html": [
       "<div>\n",
       "<style scoped>\n",
       "    .dataframe tbody tr th:only-of-type {\n",
       "        vertical-align: middle;\n",
       "    }\n",
       "\n",
       "    .dataframe tbody tr th {\n",
       "        vertical-align: top;\n",
       "    }\n",
       "\n",
       "    .dataframe thead th {\n",
       "        text-align: right;\n",
       "    }\n",
       "</style>\n",
       "<table border=\"1\" class=\"dataframe\">\n",
       "  <thead>\n",
       "    <tr style=\"text-align: right;\">\n",
       "      <th></th>\n",
       "      <th>PVALUE</th>\n",
       "      <th>BP_DISCRETE</th>\n",
       "      <th>PVALUE_DISCRETE_2LEVELS</th>\n",
       "    </tr>\n",
       "  </thead>\n",
       "  <tbody>\n",
       "    <tr>\n",
       "      <th>0</th>\n",
       "      <td>1.000000e-08</td>\n",
       "      <td>3</td>\n",
       "      <td>0</td>\n",
       "    </tr>\n",
       "    <tr>\n",
       "      <th>1</th>\n",
       "      <td>1.000000e-08</td>\n",
       "      <td>3</td>\n",
       "      <td>0</td>\n",
       "    </tr>\n",
       "    <tr>\n",
       "      <th>2</th>\n",
       "      <td>1.000000e-06</td>\n",
       "      <td>3</td>\n",
       "      <td>0</td>\n",
       "    </tr>\n",
       "    <tr>\n",
       "      <th>3</th>\n",
       "      <td>2.000000e-06</td>\n",
       "      <td>1</td>\n",
       "      <td>0</td>\n",
       "    </tr>\n",
       "    <tr>\n",
       "      <th>4</th>\n",
       "      <td>2.000000e-06</td>\n",
       "      <td>1</td>\n",
       "      <td>0</td>\n",
       "    </tr>\n",
       "  </tbody>\n",
       "</table>\n",
       "</div>"
      ],
      "text/plain": [
       "         PVALUE  BP_DISCRETE  PVALUE_DISCRETE_2LEVELS\n",
       "0  1.000000e-08            3                        0\n",
       "1  1.000000e-08            3                        0\n",
       "2  1.000000e-06            3                        0\n",
       "3  2.000000e-06            1                        0\n",
       "4  2.000000e-06            1                        0"
      ]
     },
     "execution_count": 3,
     "metadata": {},
     "output_type": "execute_result"
    }
   ],
   "source": [
    "threshold_genwidesig = (5e-8) / (830 * 38)\n",
    "\n",
    "subset_df_log = all_few_missing[[\"PVALUE\", \"BP_DISCRETE\"]].copy()\n",
    "subset_df_log[\"PVALUE_DISCRETE_2LEVELS\"] = [1 if val < threshold_genwidesig else 0 for val in all_few_missing.copy()[\"PVALUE\"]]\n",
    "\n",
    "subset_df_log.head()"
   ]
  },
  {
   "cell_type": "code",
   "execution_count": 4,
   "metadata": {},
   "outputs": [
    {
     "data": {
      "image/png": "[encoded data removed]",
      "text/plain": [
       "<Figure size 432x288 with 1 Axes>"
      ]
     },
     "metadata": {
      "needs_background": "light"
     },
     "output_type": "display_data"
    }
   ],
   "source": [
    "# Reached genome-wide significance\n",
    "num_gen_wide = (subset_df_log[\"PVALUE\"] < threshold_genwidesig).sum()\n",
    "\n",
    "# Not reached genome-wide significance\n",
    "num_not_gen_wide = (subset_df_log[\"PVALUE\"] > threshold_genwidesig).sum()\n",
    "\n",
    "plt.bar([\"Genome-Wide Significant\", \"Not Genome-Wide Significant\"], [num_gen_wide, num_not_gen_wide])\n",
    "plt.xlabel(\"Association Level\")\n",
    "plt.ylabel(\"Number of SNPs\")\n",
    "plt.title(\"Distribution of Genome-Wide Significant SNPs\")\n",
    "plt.show()"
   ]
  },
  {
   "cell_type": "markdown",
   "metadata": {},
   "source": [
    "Next, I split the dataset into training and testing sets. I used a testing size of 30% in order to adequately evaluate the model's performance. I fit the Logistic Regression model on the training data, and then evaluated the model. The model performed slightly better than average with an accuracy of 58% with this 30% testing set size. The regression coefficient is negative indicated that increasing the base pair (moving to a farther location on the chromosome) decreases the chance of the SNP reaching genome-wide significance, but the coefficient is very close to 0 so this relationship is very weak."
   ]
  },
  {
   "cell_type": "code",
   "execution_count": 5,
   "metadata": {},
   "outputs": [
    {
     "name": "stdout",
     "output_type": "stream",
     "text": [
      "Logistic Regression Coefficient: -0.0708\n",
      "Model Prediction Accuracy: 57.9897\n"
     ]
    }
   ],
   "source": [
    "x_train, x_test, y_train, y_test = train_test_split(subset_df_log[[\"BP_DISCRETE\"]], \n",
    "                                                    subset_df_log[\"PVALUE_DISCRETE_2LEVELS\"], \n",
    "                                                    test_size = 0.30, random_state = 10)\n",
    "\n",
    "model_logit = LogisticRegression(random_state = 10).fit(x_train, y_train)\n",
    "print(\"Logistic Regression Coefficient:\", round(model_logit.coef_[0][0], 4))\n",
    "\n",
    "predictions = model_logit.predict(x_test)\n",
    "print(\"Model Prediction Accuracy:\", round(sum(predictions == y_test) * 100 / len(predictions), 4))"
   ]
  },
  {
   "cell_type": "markdown",
   "metadata": {},
   "source": [
    "I investigated potential reasons for the 58% accuracy, and one clear limitation of this model is that it always predicted 0. I plotted the model predictions over the range -100 to 100. The model was only trained with inputs ranging from 1 to 4, so I'm not really interested in the predicition values outside this range. Ideally, the prediction transition from 0 to 1 would happen within the 1 to 4 range. Since it doesn't, the model always predicts 0 or 1 (0 in this case), and thus only predicts about half correctly."
   ]
  },
  {
   "cell_type": "code",
   "execution_count": 6,
   "metadata": {},
   "outputs": [
    {
     "name": "stdout",
     "output_type": "stream",
     "text": [
      "(array([1, 2, 3, 4]), array([271, 131, 302, 199]))\n",
      "(array([0, 1]), array([561, 342]))\n",
      "(array([1, 2, 3, 4]), array([120,  52, 124,  92]))\n",
      "(array([0, 1]), array([225, 163]))\n",
      "(array([0]), array([388]))\n"
     ]
    },
    {
     "data": {
      "image/png": "[encoded data removed]",
      "text/plain": [
       "<Figure size 432x288 with 1 Axes>"
      ]
     },
     "metadata": {
      "needs_background": "light"
     },
     "output_type": "display_data"
    }
   ],
   "source": [
    "for group in [x_train, y_train, x_test, y_test, predictions]:\n",
    "    print(np.unique(group, return_counts=True))\n",
    "    \n",
    "# BP_DISCRETE is only 1 - 4, but this model always predicts 0\n",
    "x = [ [i] for i in range(-100, 100)]\n",
    "y = model_logit.predict(x)\n",
    "\n",
    "plt.plot(x, y)\n",
    "plt.xlabel(\"BP DISCRETE\")\n",
    "plt.ylabel(\"P-value Discrete Prediction\")\n",
    "plt.title(\"Logistic Regression Model Predictions\")\n",
    "plt.show()"
   ]
  },
  {
   "cell_type": "markdown",
   "metadata": {},
   "source": [
    "I tried modifying the train/test split sizes to see if this could possibly improve the model. I aimed to create a model that transitioned within the 1 to 4 range. Otherwise, the model would be fairly trivial as it only predicts one value for the range I'm interested in. I created models that ranged in test sizes from 0.1 to 0.5, and all models still only predicted 0. The maximum accuracy was only 60%, which was expected since the model will never predict genome-wide significant (1) for the inputs I'm interested in (1-4).\n",
    "\n",
    "This suggests that a Logistic Regression Model may not be the best model for this purpose. The main reason is that there doesn't seem to be a clear distinction in inputs that leads to a different output. For example, if the inputs 1 and 2 were more likely to be genome-wide significant (output 1), and the other inputs 3 and 4 were more likely to not to be significant (output 0), then a Logistic Regression Model would most likely work really well. However, that does not seem to be the case which suggests that we can't broadly generalize location of a SNP on a chromosome into two classes and then determine if it's significant based on the class it's in. We most likely need to structure the classes differently as opposed to just having a threshold where values above are significant and values below are not significant. For example, one possiblility is that SNPs at the beginning and ends of chromosomes (inputs 1 and 4) are significant, which SNPs near the middle of chromosomes (inputs 2 and 3) are not significant. This would require more complicated models that can represent two transitions between 0 and 1, since logit can only represent one."
   ]
  },
  {
   "cell_type": "code",
   "execution_count": 7,
   "metadata": {},
   "outputs": [
    {
     "name": "stdout",
     "output_type": "stream",
     "text": [
      "Train Size: 0.9\n",
      "Test Size: 0.1\n",
      "Logistic Regression Coefficient: -0.0742\n",
      "Model Prediction Accuracy: 54.6154\n",
      "(array([0]), array([130]))\n",
      "\n",
      "Train Size: 0.85\n",
      "Test Size: 0.15\n",
      "Logistic Regression Coefficient: -0.0796\n",
      "Model Prediction Accuracy: 59.2784\n",
      "(array([0]), array([194]))\n",
      "\n",
      "Train Size: 0.8\n",
      "Test Size: 0.2\n",
      "Logistic Regression Coefficient: -0.074\n",
      "Model Prediction Accuracy: 57.529\n",
      "(array([0]), array([259]))\n",
      "\n",
      "Train Size: 0.75\n",
      "Test Size: 0.25\n",
      "Logistic Regression Coefficient: -0.0835\n",
      "Model Prediction Accuracy: 57.2755\n",
      "(array([0]), array([323]))\n",
      "\n",
      "Train Size: 0.7\n",
      "Test Size: 0.3\n",
      "Logistic Regression Coefficient: -0.0708\n",
      "Model Prediction Accuracy: 57.9897\n",
      "(array([0]), array([388]))\n",
      "\n",
      "Train Size: 0.65\n",
      "Test Size: 0.35\n",
      "Logistic Regression Coefficient: -0.0862\n",
      "Model Prediction Accuracy: 59.0708\n",
      "(array([0]), array([452]))\n",
      "\n",
      "Train Size: 0.6\n",
      "Test Size: 0.4\n",
      "Logistic Regression Coefficient: -0.0921\n",
      "Model Prediction Accuracy: 59.1876\n",
      "(array([0]), array([517]))\n",
      "\n",
      "Train Size: 0.55\n",
      "Test Size: 0.45\n",
      "Logistic Regression Coefficient: -0.1111\n",
      "Model Prediction Accuracy: 59.7246\n",
      "(array([0]), array([581]))\n",
      "\n",
      "Train Size: 0.5\n",
      "Test Size: 0.5\n",
      "Logistic Regression Coefficient: -0.0994\n",
      "Model Prediction Accuracy: 60.5263\n",
      "(array([0]), array([646]))\n",
      "\n"
     ]
    }
   ],
   "source": [
    "for i in range(10, 55, 5):\n",
    "    \n",
    "    test_size = i/100\n",
    "    train_size = 1 - test_size\n",
    "\n",
    "    x_train, x_test, y_train, y_test = train_test_split(subset_df_log[[\"BP_DISCRETE\"]], \n",
    "                                                        subset_df_log[\"PVALUE_DISCRETE_2LEVELS\"], \n",
    "                                                        test_size = test_size, random_state = 10)\n",
    "\n",
    "    print(\"Train Size:\", train_size)\n",
    "    print(\"Test Size:\", test_size)\n",
    "\n",
    "    model_logit = LogisticRegression(random_state = 10).fit(x_train, y_train)\n",
    "    print(\"Logistic Regression Coefficient:\", round(model_logit.coef_[0][0], 4))\n",
    "\n",
    "    predictions = model_logit.predict(x_test)\n",
    "    print(\"Model Prediction Accuracy:\", round(sum(predictions == y_test) * 100 / len(predictions), 4))\n",
    "    print(np.unique(predictions, return_counts=True))\n",
    "    \n",
    "    print()"
   ]
  },
  {
   "cell_type": "markdown",
   "metadata": {},
   "source": [
    "#### Linear Regression\n",
    "\n",
    "The next model I created was a Linear Regression Model to predict SNP association level based on odds ratio (OR), chromosomal location, discrete base pair location, and the discrete effect allele. Since I was not limited to binary output, I expanded the number of possible SNP association levels from two to three. In addition to reaching genome-wide significance, SNPs can also reach suggestive association. If SNPs don't reach the suggestive association, then they are considered not significant."
   ]
  },
  {
   "cell_type": "code",
   "execution_count": 8,
   "metadata": {},
   "outputs": [
    {
     "data": {
      "image/png": "[encoded data removed]",
      "text/plain": [
       "<Figure size 432x288 with 1 Axes>"
      ]
     },
     "metadata": {
      "needs_background": "light"
     },
     "output_type": "display_data"
    }
   ],
   "source": [
    "subset_df_lin = all_few_missing[[\"PVALUE\", \"OR\", \"CHR\", \"BP_DISCRETE\", \"EFFECT_ALLELE_DISCRETE\"]].copy()\n",
    "\n",
    "# Remove missing values which was represented with -10 (other columns don't have any) before model generation\n",
    "# They were left in during the cleaning process because I didn't want to remove ALL entries with missing values,\n",
    "# and instead chose to remove the rows during smaller analysis (reduces this dataframe from 1291 rows to 1098 rows)\n",
    "\n",
    "subset_df_lin = subset_df_lin[subset_df_lin[\"EFFECT_ALLELE_DISCRETE\"] != -10]\n",
    "threshold_suggassoc = (5e-5) / (830 * 38)\n",
    "\n",
    "subset_df_lin[\"PVALUE_DISCRETE_3LEVELS\"] = [2 if val < threshold_genwidesig else (1 if val < threshold_suggassoc else 0) for val in subset_df_lin[\"PVALUE\"]]\n",
    "\n",
    "# Reached genome-wide significance\n",
    "num_gen_wide = (subset_df_lin[\"PVALUE_DISCRETE_3LEVELS\"] == 2).sum()\n",
    "\n",
    "# Reached suggestive association\n",
    "num_sugg_assoc = (subset_df_lin[\"PVALUE_DISCRETE_3LEVELS\"] == 1).sum()\n",
    "\n",
    "# Not significant\n",
    "num_not_sig = (subset_df_lin[\"PVALUE_DISCRETE_3LEVELS\"] == 0).sum()\n",
    "\n",
    "plt.bar([\"Genome-Wide Significant\", \"Suggestive Association\", \"Not Signficant\"], \n",
    "        [num_gen_wide, num_sugg_assoc, num_not_sig], width = 0.4, align = \"center\")\n",
    "plt.xlabel(\"Association Level\")\n",
    "plt.ylabel(\"Number of SNPs\")\n",
    "plt.title(\"Distribution of Genome-Wide Significant SNPs\")\n",
    "plt.show()"
   ]
  },
  {
   "cell_type": "markdown",
   "metadata": {},
   "source": [
    "I created the model by first splitting the data into training and testing sets (test size = 30%). The model was terrible as it had an accuracy of 0%. The main reason for this is that Linear Regression Models are not well suited to predict discrete values. I chose not to keep the p-value continuous because those values are very specific and nuanced, which would lead to a lower accuracy. Additionally, I am not interested in predicting the actual p-value, but whether the SNP reaches a specific threshold.\n",
    "\n",
    "One alternative is to create a hybrid model by using a Linear Regression model to predict a continuous p-value and then threshold the result into one of the three association levels."
   ]
  },
  {
   "cell_type": "code",
   "execution_count": 9,
   "metadata": {},
   "outputs": [
    {
     "name": "stdout",
     "output_type": "stream",
     "text": [
      "Model Regression Coefficient: -0.2823\n",
      "Model Prediction Accuracy: 0.0\n",
      "[-0.28226152 -0.02035349 -0.022755   -0.02369435]\n"
     ]
    }
   ],
   "source": [
    "x_train, x_test, y_train, y_test = train_test_split(subset_df_lin[[\"OR\", \"CHR\", \"BP_DISCRETE\", \n",
    "                                                                   \"EFFECT_ALLELE_DISCRETE\"]], \n",
    "                                                    subset_df_lin[\"PVALUE_DISCRETE_3LEVELS\"], \n",
    "                                                    test_size = 0.30, random_state = 10)\n",
    "\n",
    "model_lin = LinearRegression().fit(x_train, y_train)\n",
    "print(\"Model Regression Coefficient:\", round(model_lin.coef_[0], 4))\n",
    "\n",
    "predictions = model_lin.predict(x_test)\n",
    "print(\"Model Prediction Accuracy:\", round(sum(predictions == y_test) * 100 / len(predictions), 5))\n",
    "\n",
    "print(model_lin.coef_)\n",
    "\n",
    "# Linear model not great for discrete values\n",
    "\n",
    "#print(predictions) -- predictions are very close to 0, 1, 2, but not exactly -- thus they are incorrect\n",
    "#for val in y_test:\n",
    "#    print(val)"
   ]
  },
  {
   "cell_type": "code",
   "execution_count": 10,
   "metadata": {},
   "outputs": [
    {
     "name": "stdout",
     "output_type": "stream",
     "text": [
      "Model Regression Coefficient: 0.0\n",
      "Model Prediction Accuracy: 0.0\n"
     ]
    }
   ],
   "source": [
    "# Adapt model to predict the continuous Pvalue\n",
    "x_train, x_test, y_train, y_test = train_test_split(subset_df_lin[[\"OR\", \"CHR\", \"BP_DISCRETE\", \n",
    "                                                                   \"EFFECT_ALLELE_DISCRETE\"]], \n",
    "                                                    subset_df_lin[\"PVALUE\"], \n",
    "                                                    test_size = 0.20, random_state = 10)\n",
    "\n",
    "model_lin_cont = LinearRegression().fit(x_train, y_train)\n",
    "print(\"Model Regression Coefficient:\", round(model_lin_cont.coef_[0], 4))\n",
    "\n",
    "predictions = model_lin_cont.predict(x_test)\n",
    "print(\"Model Prediction Accuracy:\", round(sum(predictions == y_test) * 100 / len(predictions), 4))"
   ]
  },
  {
   "cell_type": "code",
   "execution_count": 11,
   "metadata": {},
   "outputs": [
    {
     "data": {
      "text/plain": [
       "array([ 6.36874563e-07,  7.48406549e-09, -2.12044697e-08,  1.18887449e-08])"
      ]
     },
     "execution_count": 11,
     "metadata": {},
     "output_type": "execute_result"
    }
   ],
   "source": [
    "# The Pvalues are very specific so it will be extremely difficult to predict them exactly\n",
    "# That was my reasoning for converting the continuous values to discrete values\n",
    "model_lin_cont.coef_"
   ]
  },
  {
   "cell_type": "markdown",
   "metadata": {},
   "source": [
    "#### Additional Models\n",
    "\n",
    "A more complicated model might better predict the 3-level discrete p-value. The 2-level logistic model works ok, but its accuracy is only 58%, and ideally I want to be able to distinguish between genome-wide significant, suggestive association, and not significant, as opposed to just genome-wide significant and not genome-wide significant.\n",
    "\n",
    "I looked into the following models: Naive Bayes, Support Vector Machine (SVM), k-Nearest Neighbors, Decision Tree, and Random Forest. I ruled out Naive Bayes since it assumes the features (columns) are independent, which is not valid since some are correlated. I chose not to use SVMs because of the dimensional size of the feature space. SVMs aim to identify a geometric boundary to separate different groups of features. If the feature space is 2D (only two features), then the SVM can utilize something as simple as a line to separate the features (ex. all features above the line are classified as X and all features below the line are classified as Y). However, in a larger dimension feature space, the geometric boundary can become much more complicated, such as a Gaussian, and this often leads to overfitting (the model will become too specific based on the training set and not be able to perform well on data it hasn't seen before)."
   ]
  },
  {
   "cell_type": "code",
   "execution_count": 12,
   "metadata": {},
   "outputs": [
    {
     "name": "stdout",
     "output_type": "stream",
     "text": [
      "Random Forest (no standardization) Score: 0.7878787878787878\n",
      "Random Forest (wite standardization) Score: 0.7818181818181819\n"
     ]
    }
   ],
   "source": [
    "# Same as used for linear model\n",
    "x_train, x_test, y_train, y_test = train_test_split(subset_df_lin[[\"OR\", \"CHR\", \"BP_DISCRETE\", \n",
    "                                                                   \"EFFECT_ALLELE_DISCRETE\"]], \n",
    "                                                    subset_df_lin[\"PVALUE_DISCRETE_3LEVELS\"], \n",
    "                                                    test_size = 0.30, random_state = 10)\n",
    "\n",
    "model_rf = RandomForestClassifier(random_state = 10)\n",
    "model_rf.fit(x_train, y_train)\n",
    "\n",
    "print(\"Random Forest (no standardization) Score:\", model_rf.score(x_test, y_test))\n",
    "\n",
    "# Standardize data\n",
    "\n",
    "scaler = StandardScaler()\n",
    "scaler.fit(x_train)\n",
    "\n",
    "x_train = scaler.transform(x_train)\n",
    "x_test = scaler.transform(x_test)\n",
    "\n",
    "model_rf_st = RandomForestClassifier(random_state = 10)\n",
    "model_rf_st.fit(x_train, y_train)\n",
    "\n",
    "# Doesn't have an impact here\n",
    "print(\"Random Forest (wite standardization) Score:\", model_rf_st.score(x_test, y_test))"
   ]
  },
  {
   "cell_type": "markdown",
   "metadata": {},
   "source": [
    "The accuracy of this model was much better than the previous models. Even though there were only four features in this model, I wanted to identify if all of these features were needed to maintain a relatively high accuracy. I performed Principal Component Analysis (PCA) to reduce the number of features and account for a large amount of variance within the dataset. I started by trying to account for 95% of variance, and this required 4 PCA components and didn't impact the accuracy."
   ]
  },
  {
   "cell_type": "code",
   "execution_count": 13,
   "metadata": {
    "scrolled": true
   },
   "outputs": [
    {
     "name": "stdout",
     "output_type": "stream",
     "text": [
      "Number of Components: 4\n",
      "Score: 0.7878787878787878\n"
     ]
    }
   ],
   "source": [
    "scaler = StandardScaler()\n",
    "scaler.fit(x_train)\n",
    "\n",
    "x_train = scaler.transform(x_train)\n",
    "x_test = scaler.transform(x_test)\n",
    "\n",
    "pca95 = PCA(0.95)\n",
    "pca95.fit(x_train)\n",
    "\n",
    "print(\"Number of Components:\", pca95.n_components_)\n",
    "\n",
    "x_train = pca95.transform(x_train)\n",
    "x_test = pca95.transform(x_test)\n",
    "\n",
    "model_rf_pca = RandomForestClassifier(random_state = 10)\n",
    "model_rf_pca.fit(x_train, y_train)\n",
    "\n",
    "print(\"Score:\", model_rf_pca.score(x_test, y_test))"
   ]
  },
  {
   "cell_type": "markdown",
   "metadata": {},
   "source": [
    "I created a function to perform PCA given the amount of variance to account for, and then used this to perform PCA several times to account for 50-95% of variance within the dataset."
   ]
  },
  {
   "cell_type": "code",
   "execution_count": 14,
   "metadata": {},
   "outputs": [],
   "source": [
    "def performPCA(var):\n",
    "    pca_var = PCA(var)\n",
    "    pca_var.fit(x_train)\n",
    "    \n",
    "    train = pca_var.transform(x_train)\n",
    "    test = pca_var.transform(x_test)\n",
    "    \n",
    "    model_var = RandomForestClassifier(random_state = 10)\n",
    "    model_var.fit(train, y_train)\n",
    "    \n",
    "    return [pca_var.n_components_, model_var.score(test, y_test)]"
   ]
  },
  {
   "cell_type": "code",
   "execution_count": 15,
   "metadata": {},
   "outputs": [
    {
     "data": {
      "image/png": "[encoded data removed]",
      "text/plain": [
       "<Figure size 432x288 with 1 Axes>"
      ]
     },
     "metadata": {
      "needs_background": "light"
     },
     "output_type": "display_data"
    },
    {
     "data": {
      "image/png": "[encoded data removed]",
      "text/plain": [
       "<Figure size 432x288 with 1 Axes>"
      ]
     },
     "metadata": {
      "needs_background": "light"
     },
     "output_type": "display_data"
    }
   ],
   "source": [
    "labels = []\n",
    "num_comp = []\n",
    "scores = []\n",
    "\n",
    "for i in range(50, 95, 5):\n",
    "    num_c, score = performPCA(i/100)\n",
    "    \n",
    "    labels.append(i)\n",
    "    num_comp.append(num_c)\n",
    "    scores.append(score)\n",
    "\n",
    "#print(labels)\n",
    "#print(num_comp)\n",
    "#print(scores)\n",
    "\n",
    "labels = [\"Var=\" + str(i) + \"%\" for i in labels]\n",
    "\n",
    "fig = plt.figure()\n",
    "ax = fig.add_axes([0, 0, 1, 1])\n",
    "ax.bar(labels, scores)\n",
    "plt.title(\"Score Distribution by PCA Variance\")\n",
    "plt.xlabel(\"PCA Variance\")\n",
    "plt.ylabel(\"Model Accuracy Score\")\n",
    "plt.tick_params(axis = \"x\", rotation = 90, labelsize = 15)\n",
    "plt.show()\n",
    "\n",
    "fig = plt.figure()\n",
    "ax = fig.add_axes([0, 0, 1, 1])\n",
    "ax.bar(labels, num_comp)\n",
    "plt.title(\"Number of Components Distribution by PCA Variance\")\n",
    "plt.xlabel(\"PCA Variance\")\n",
    "plt.ylabel(\"Number of Components\")\n",
    "plt.tick_params(axis = \"x\", rotation = 90, labelsize = 15)\n",
    "plt.show()"
   ]
  },
  {
   "cell_type": "markdown",
   "metadata": {},
   "source": [
    "Based on the PCA results, it doesn't seem like reducing the number of features has a major effect on the accuracy of the model. To account for 50-75% of the variance, we don't need all 4 features (only 2-3), which is due to the correlation among some of the features.\n",
    "\n",
    "Another evaluation tool I used was k-Fold Cross Validation. This split the dataset into k different groups, performed a test/train split on that group, and then evaluated the result. This can provide more insights into the model since it simulates having a bunch of smaller datasets, so we can identify if the model is overfitting or underfitting. On average, the model performed better. One possible is reason is that the smaller groups don't have all discrete levels, allowing the model to be much simpler and more accurate. Specifically, one group might only have the output 1, and the model will essentially be a linear model that always predicts 1, leading to an accuracy of 100%."
   ]
  },
  {
   "cell_type": "code",
   "execution_count": 16,
   "metadata": {},
   "outputs": [
    {
     "name": "stdout",
     "output_type": "stream",
     "text": [
      "Score 1: 1.0\n",
      "Score 2: 1.0\n",
      "Score 3: 1.0\n",
      "Score 4: 0.990909090909091\n",
      "Score 5: 0.990909090909091\n",
      "Score 6: 0.9818181818181818\n",
      "Score 7: 0.8090909090909091\n",
      "Score 8: 0.8909090909090909\n",
      "Score 9: 0.6880733944954128\n",
      "Score 10: 0.7064220183486238\n",
      "Average Score: 0.9058131776480401\n"
     ]
    }
   ],
   "source": [
    "features = subset_df_lin[[\"OR\", \"CHR\", \"BP_DISCRETE\", \"EFFECT_ALLELE_DISCRETE\"]]\n",
    "predict = subset_df_lin[\"PVALUE_DISCRETE_3LEVELS\"]\n",
    "\n",
    "scores = cross_val_score(model_rf, features, predict, cv = 10)\n",
    "for i in range(len(scores)):\n",
    "    print(\"Score\", str(i + 1) + \":\", scores[i])\n",
    "\n",
    "print(\"Average Score:\", sum(scores)/len(scores))"
   ]
  },
  {
   "cell_type": "markdown",
   "metadata": {},
   "source": [
    "### Limitations"
   ]
  },
  {
   "cell_type": "markdown",
   "metadata": {},
   "source": [
    "There are some limitations of this dataset.\n",
    "\n",
    "First, the dataset has a limited number of traits. There are comparatively few allergic disease related traits in the GWAS Catalog compared to other sources. I scraped all the allergy traits and that resulted in ~1500 SNPs. If the Catalog had more allergy traits then I could incorporate many more SNPs into my analysis. \n",
    "\n",
    "Similarly, there are some overlapping traits. For example, 'Eczema, allergic rhinitis' is one trait and 'Eczema, allergic rhinitis, asthma' is a different trait. There are two main problems with this. First, eczema, allergic rhinitis, asthma should all be their own traits. Second, what is the difference between these two traits? There is a decent amount of overlap among these traits and the only fundamental difference is the GWAS that identified the association. This will result in different p-values, and possibly different beta coefficients and odds ratios, for the same variant (SNP). However, the biological features of the SNP (chromosome, base pair location, etc.) will all be the same. This will be a major source of confounding. On top of this, there is another trait labeled 'atopic eczema'. I haven't finalized how I will handle this situation, but I'm thinking about focusing on comparing the single traits (ex: 'atopic eczema', 'allergic rhinitis'), and placing less emphasis on the combined traits (ex: 'eczema, allergic rhinitis').\n",
    "\n",
    "Next, there is a decent amount of missing data in some columns. The beta coefficient column is one example, which is interesting because the odds ratio column doesn't have this same problem and the beta coefficient can be calculated from the odds ratio. This makes me doubt the validity of the odds ratio values, but it just may have been that the automated pipeline didn't calculate the beta-coefficient if it was missing, even though it should have. Additionally, not a lot of SNPs have a list of nearby genes. This is surprising from a biological aspect since we expect SNPs to be located near genes if they impact the predisposition of a trait. This might be a limitation of the software used to extract the relevant biological information.\n",
    "\n",
    "Another limitation is the imbalance of SNP associations per trait. Ideally, all traits would have the same number of associations, or at least similar counts (in this dataset some traits have ~300 SNPs and some have ~5 SNPs). Since that is not the case, potential classification models may exhibit overfitting or underfitting based on the data available. Additionally, it will pose a challenge to generate one cohesive model for multiple traits because of the sample size discrepancy.\n",
    "\n",
    "One more limitation is that fact that I don't have access to other details from the GWAS that identified a SNP. Specifically, I don't have access to the number of traits or number of SNPs analyzed in the study. If I had access to this data, I could use it to identify if the p-value of the SNP association reached genome-wide significance (essentially, genome-wide significance increases the likelihood of the SNP actually impacting a biological phenomena - in this case that would be the predisposition of an allergy phenotype). This would have allowed me to generate another discrete column (1 if the SNP reached genome-wide significance, 0 if the SNP didn't). I could have used this column as another feature in a classification model.\n",
    "\n",
    "Lastly, despite the software verification that the GWAS Catalog performed, there could be errors with the reported associations. Some of the related biological data (chromosome, effect allele, etc.) could have been collected incorrectly and that would skew the results. This doesn't seem to be a major problem since the GWAS Catalog has been used for several years, and if there was a major problem another user most likely would have already reported it."
   ]
  },
  {
   "cell_type": "markdown",
   "metadata": {},
   "source": [
    "### Questions for Reviewers"
   ]
  },
  {
   "cell_type": "markdown",
   "metadata": {},
   "source": [
    "1. Is it necessary to have separate sections for data analysis, evaluation of significance, and interpretation/conclusions? Currently, I explain one analysis, perform it, evaluate and interpret the results, and then move onto the next analysis. I believe that this flows better than isolating analyses, evaluations, and interpretations in separate sections.\n",
    "2. Is the data analysis section too long? I wanted to show how the model evolved as I improved its accuracy as well as how I evaluated each model. I debated removing some of the middle model iterations, but then the reader might get confused how I went from the first to the last model."
   ]
  }
 ],
 "metadata": {
  "kernelspec": {
   "display_name": "Python 3",
   "language": "python",
   "name": "python3"
  },
  "language_info": {
   "codemirror_mode": {
    "name": "ipython",
    "version": 3
   },
   "file_extension": ".py",
   "mimetype": "text/x-python",
   "name": "python",
   "nbconvert_exporter": "python",
   "pygments_lexer": "ipython3",
   "version": "3.8.5"
  }
 },
 "nbformat": 4,
 "nbformat_minor": 4
}
